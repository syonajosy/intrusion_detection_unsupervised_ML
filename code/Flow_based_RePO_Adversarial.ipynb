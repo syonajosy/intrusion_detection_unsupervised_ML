{
 "cells": [
  {
   "cell_type": "code",
   "execution_count": 1,
   "metadata": {
    "ExecuteTime": {
     "end_time": "2020-08-06T03:01:01.798750Z",
     "start_time": "2020-08-06T03:01:00.660710Z"
    }
   },
   "outputs": [],
   "source": [
    "import tensorflow as tf\n",
    "import numpy as np\n",
    "%load_ext autoreload\n",
    "%autoreload 2\n",
    "import os\n",
    "import sys\n",
    "import time\n",
    "from tensorflow.keras.layers import Dense, Flatten, Dropout\n",
    "from tensorflow.keras import Model\n",
    "import pandas as pd"
   ]
  },
  {
   "cell_type": "code",
   "execution_count": 2,
   "metadata": {
    "ExecuteTime": {
     "end_time": "2020-08-06T03:01:01.819365Z",
     "start_time": "2020-08-06T03:01:01.799728Z"
    }
   },
   "outputs": [],
   "source": [
    "### At this threshold the FPR of the model we trained is 0.1\n",
    "real_thr = 0.016235964372754097 \n",
    "### We consider a threshold lower than the real threshold of the model to compensate the impact of group 4 features\n",
    "### as described in \"Towards Evaluation of NIDSs in Adversarial Setting\"\n",
    "thr = 0.016235964372754097*0.8"
   ]
  },
  {
   "cell_type": "code",
   "execution_count": 5,
   "metadata": {
    "ExecuteTime": {
     "end_time": "2020-08-06T03:01:24.638651Z",
     "start_time": "2020-08-06T03:01:24.613446Z"
    }
   },
   "outputs": [],
   "source": [
    "def get_test_set():\n",
    "    test_files = ['../data/flow_based/Tuesday-WH-generate-labeled.csv',\n",
    "                '../data/flow_based/Wednesday-WH-generate-labeled.csv',\n",
    "                '../data/flow_based/Thursday-WH-generate-labeled.csv',\n",
    "                '../data/flow_based/Friday-WH-generate-labeled.csv']\n",
    "    \n",
    "    train_min = np.load('../data/flow_based/x_train_meta/train_min.npy')\n",
    "    train_max = np.load('../data/flow_based/x_train_meta/train_max.npy')\n",
    "    \n",
    "    x_test_all = []\n",
    "    y_test_all = []\n",
    "    all_label_set = []\n",
    "    for i in range(len(test_files)):\n",
    "        print (i,test_files[i])\n",
    "        url_data = test_files[i]\n",
    "        df = pd.read_csv(url_data)\n",
    "\n",
    "        feats = df.iloc[:,8:]\n",
    "        ds_port = df.iloc[:,5]\n",
    "        df = pd.concat([ds_port,feats],axis=1)\n",
    "\n",
    "        labels = df.iloc[:,-1].values\n",
    "        label_set = set(labels)\n",
    "        all_label_set.append(label_set)\n",
    "\n",
    "        all_feats = df.iloc[:,:-1].astype(np.float64).values\n",
    "        known_data_IDs =(np.any(np.isinf(all_feats),axis=1) + np.any(np.isnan(all_feats),axis=1))==False\n",
    "        x_test = all_feats[known_data_IDs]\n",
    "        y_test = df.iloc[:,-1].values\n",
    "        y_test = y_test[known_data_IDs]\n",
    "#         x_test = (x_test - train_min)/(train_max - train_min+1e-6)\n",
    "        x_test_all.append(x_test)\n",
    "        y_test_all.append(y_test)\n",
    "    x_test = np.concatenate(x_test_all,axis=0).astype(np.float32)\n",
    "    y_test = np.concatenate(y_test_all,axis=0)\n",
    "    \n",
    "    #### list of features which are decimal:\n",
    "    decimal_features = []\n",
    "    for i in range(x_test.shape[1]):\n",
    "        a1 = x_test[:,i]\n",
    "        a2 = np.round(a1)\n",
    "        temp = np.sum(np.abs(a1-a2))\n",
    "        if temp==0:\n",
    "#             print (i,df.columns[i])\n",
    "            decimal_features.append(i)\n",
    "    return x_test, y_test,train_min, train_max,decimal_features\n",
    "    \n",
    "    "
   ]
  },
  {
   "cell_type": "code",
   "execution_count": 6,
   "metadata": {
    "ExecuteTime": {
     "end_time": "2020-08-06T03:01:25.455553Z",
     "start_time": "2020-08-06T03:01:25.434617Z"
    }
   },
   "outputs": [],
   "source": [
    "@tf.function\n",
    "def test_step(x):\n",
    "    def_mask = tf.random.uniform(shape=[1*100,num_input])\n",
    "    def_mask = tf.cast((def_mask>0.75),tf.float32)\n",
    "    x_normalized =(x - train_min)/(train_max - train_min+0.000001)\n",
    "\n",
    "    partial_x = def_mask*x_normalized\n",
    "    rec_x = model(partial_x, training=False)\n",
    "    score = tf.reduce_mean(tf.square(rec_x - x_normalized),axis=1)\n",
    "    score = tf.reduce_min(tf.reshape(score,[5,20]),axis=-1)\n",
    "    score = tf.reduce_sum(score)\n",
    "    return score"
   ]
  },
  {
   "cell_type": "code",
   "execution_count": 7,
   "metadata": {
    "ExecuteTime": {
     "end_time": "2020-08-06T03:01:43.584273Z",
     "start_time": "2020-08-06T03:01:26.767611Z"
    },
    "scrolled": true
   },
   "outputs": [
    {
     "name": "stdout",
     "output_type": "stream",
     "text": [
      "0 ../data/flow_based/Tuesday-WH-generate-labeled.csv\n",
      "1 ../data/flow_based/Wednesday-WH-generate-labeled.csv\n",
      "2 ../data/flow_based/Thursday-WH-generate-labeled.csv\n",
      "3 ../data/flow_based/Friday-WH-generate-labeled.csv\n"
     ]
    }
   ],
   "source": [
    "model = tf.keras.models.load_model('../models/flw_model/')\n",
    "\n",
    "x_test, y_test, train_min, train_max, decimal_features = get_test_set()\n",
    "num_input = x_test.shape[1]\n"
   ]
  },
  {
   "cell_type": "code",
   "execution_count": 8,
   "metadata": {
    "ExecuteTime": {
     "end_time": "2020-08-06T03:01:52.199051Z",
     "start_time": "2020-08-06T03:01:52.179617Z"
    }
   },
   "outputs": [],
   "source": [
    "label_names = ['BENIGN','FTP-Patator','SSH-Patator','DoS slowloris','DoS Slowhttptest','DoS Hulk','DoS GoldenEye',\n",
    "          'Heartbleed','Web Attack','Infiltration', 'Bot', 'PortScan', 'DDoS']"
   ]
  },
  {
   "cell_type": "code",
   "execution_count": 9,
   "metadata": {
    "ExecuteTime": {
     "end_time": "2020-08-06T03:01:53.773537Z",
     "start_time": "2020-08-06T03:01:53.755055Z"
    }
   },
   "outputs": [],
   "source": [
    "attack_type = 'DoS Slowhttptest'"
   ]
  },
  {
   "cell_type": "code",
   "execution_count": 10,
   "metadata": {
    "ExecuteTime": {
     "end_time": "2020-08-06T03:02:08.420524Z",
     "start_time": "2020-08-06T03:02:06.044696Z"
    }
   },
   "outputs": [
    {
     "name": "stdout",
     "output_type": "stream",
     "text": [
      "(5499, 77)\n",
      "0 7.009506225585938e-05\n",
      "WARNING:tensorflow:AutoGraph could not transform <function test_step at 0x7f72c47ce050> and will run it as-is.\n",
      "Please report this to the TensorFlow team. When filing the bug, set the verbosity to 10 (on Linux, `export AUTOGRAPH_VERBOSITY=10`) and attach the full output.\n",
      "Cause: Bad argument number for Name: 3, expecting 4\n",
      "WARNING: AutoGraph could not transform <function test_step at 0x7f72c47ce050> and will run it as-is.\n",
      "Please report this to the TensorFlow team. When filing the bug, set the verbosity to 10 (on Linux, `export AUTOGRAPH_VERBOSITY=10`) and attach the full output.\n",
      "Cause: Bad argument number for Name: 3, expecting 4\n",
      "1000 0.6546504497528076\n",
      "2000 1.0740809440612793\n",
      "3000 1.5067884922027588\n",
      "4000 1.9264905452728271\n",
      "4999 2.304635763168335\n",
      "TPR in normal setting for DoS Slowhttptest is 0.9290\n"
     ]
    }
   ],
   "source": [
    "x_test_mal = x_test[y_test==attack_type]\n",
    "print (x_test_mal.shape)\n",
    "x_test_mal = x_test_mal[:5000].astype(np.float32)\n",
    "score_np = np.zeros(len(x_test_mal))\n",
    "begin_time = time.time()\n",
    "for i in range(len(x_test_mal)):\n",
    "    if i%1000==0:\n",
    "        print (i,time.time() - begin_time)\n",
    "    sample = x_test_mal[i][None]\n",
    "    score_temp = test_step(sample)\n",
    "    score_np[i] = score_temp.numpy()\n",
    "print (i,time.time() - begin_time)\n",
    "\n",
    "print (\"TPR in normal setting for \"+attack_type+\" is {0:0.4f}\".format(np.sum(score_np>=real_thr)/len(score_np)))"
   ]
  },
  {
   "cell_type": "markdown",
   "metadata": {},
   "source": [
    "# Crafting Adversarial Examples"
   ]
  },
  {
   "cell_type": "code",
   "execution_count": 11,
   "metadata": {
    "ExecuteTime": {
     "end_time": "2020-08-06T03:02:17.590860Z",
     "start_time": "2020-08-06T03:02:17.563474Z"
    }
   },
   "outputs": [],
   "source": [
    "alpha = tf.Variable(np.zeros((1, x_test.shape[1]), dtype=np.float32),name='modifier')"
   ]
  },
  {
   "cell_type": "code",
   "execution_count": 12,
   "metadata": {
    "ExecuteTime": {
     "end_time": "2020-08-06T03:02:19.622810Z",
     "start_time": "2020-08-06T03:02:19.603263Z"
    }
   },
   "outputs": [],
   "source": [
    "@tf.function\n",
    "def get_adv(x,adv_mask):\n",
    "    x_normalized = (x - train_min)/(train_max - train_min+1e-6)\n",
    "    alpha_masked = alpha*adv_mask\n",
    "    adv_ex_normalized = x_normalized + alpha_masked\n",
    "    adv_ex = adv_ex_normalized*(train_max - train_min + 1e-6) + train_min #### unnormalized\n",
    "    return adv_ex"
   ]
  },
  {
   "cell_type": "code",
   "execution_count": 13,
   "metadata": {
    "ExecuteTime": {
     "end_time": "2020-08-06T03:02:21.256755Z",
     "start_time": "2020-08-06T03:02:21.235725Z"
    }
   },
   "outputs": [],
   "source": [
    "@tf.function\n",
    "def optim(x,adv_mask,optimizer):\n",
    "    with tf.GradientTape() as tape:\n",
    "        x_normalized = (x - train_min)/(train_max - train_min+1e-6)\n",
    "        alpha_masked = alpha*adv_mask\n",
    "        adv_ex_normalized = x_normalized + alpha_masked\n",
    "    \n",
    "        def_mask = tf.random.uniform(shape=[1*100,num_input])\n",
    "        def_mask = tf.cast((def_mask>0.75),tf.float32)\n",
    "        partial_x = def_mask*adv_ex_normalized\n",
    "        rec_x = model(partial_x, training=False)\n",
    "\n",
    "        score = tf.reduce_mean(tf.square(rec_x - adv_ex_normalized),axis=1)\n",
    "        score = tf.reduce_sum(score)\n",
    "        loss = score\n",
    "\n",
    "    gradients = tape.gradient(loss, [alpha])\n",
    "    optimizer.apply_gradients(zip(gradients, [alpha]))"
   ]
  },
  {
   "cell_type": "code",
   "execution_count": 14,
   "metadata": {
    "ExecuteTime": {
     "end_time": "2020-08-06T03:02:22.922310Z",
     "start_time": "2020-08-06T03:02:22.874065Z"
    }
   },
   "outputs": [],
   "source": [
    "fixed_mask = np.ones(77,dtype=np.float32)\n",
    "\n",
    "######### Group 1 features (based on the categorization in  \"Towards Evaluation of NIDSs in Adversarial Setting\") ######### \n",
    "fixed_mask[0] = 0 #dst_port\n",
    "fixed_mask[3] = 0 #bwd\n",
    "fixed_mask[4] = 0 #total len of fwd pkts (sum of all payloads in fwd direction)\n",
    "fixed_mask[5] = 0 #total len of bwd pkts (sum of all payloads in bwd direction)\n",
    "fixed_mask[10] = 0 #bwd\n",
    "fixed_mask[11] = 0 #bwd\n",
    "fixed_mask[12] = 0 #bwd\n",
    "fixed_mask[13] = 0 #bwd\n",
    "fixed_mask[25] = 0 #bwd\n",
    "fixed_mask[26] = 0 #bwd\n",
    "fixed_mask[27] = 0 #bwd\n",
    "fixed_mask[28] = 0 #bwd\n",
    "fixed_mask[29] = 0 #bwd\n",
    "fixed_mask[31] = 0 #bwd\n",
    "fixed_mask[33] = 0 #bwd\n",
    "fixed_mask[35] = 0 #bwd\n",
    "fixed_mask[37] = 0 #bwd\n",
    "fixed_mask[53] = 0 \n",
    "fixed_mask[54] = 0 #bwd\n",
    "for i in range(58,65):\n",
    "    fixed_mask[i]=0\n",
    "fixed_mask[66] = 0 #bwd\n",
    "\n",
    "\n",
    "\n",
    "######### Group 4 features (based on the categorization in  \"Towards Evaluation of NIDSs in Adversarial Setting\") ######### \n",
    "fixed_mask[9] = 0 #std (fwd-payload)\n",
    "fixed_mask[17] = 0 #std\n",
    "fixed_mask[22] = 0 #std\n",
    "fixed_mask[41] = 0 #std\n",
    "fixed_mask[42] = 0 #var\n",
    "fixed_mask[55] = 0 #bulk\n",
    "fixed_mask[56] = 0 #bulk\n",
    "fixed_mask[57] = 0 #bulk\n",
    "for i in range(68,77):\n",
    "    fixed_mask[i]=0\n",
    "    \n",
    "\n",
    "    \n",
    "################## Group 3 (Dependent) features (based on the categorization in  \"Towards Evaluation of NIDSs in Adversarial Setting\") ######### \n",
    "depended_features = {8,14,15,16,20,21,34,36,38,39,40,51,52,67}\n",
    "for i in depended_features:\n",
    "    fixed_mask[i] = 0\n",
    "    \n",
    "    \n",
    "################## Other features are Group 2 (Independent) features"
   ]
  },
  {
   "cell_type": "code",
   "execution_count": 15,
   "metadata": {
    "ExecuteTime": {
     "end_time": "2020-08-06T03:02:24.024698Z",
     "start_time": "2020-08-06T03:02:24.002137Z"
    }
   },
   "outputs": [],
   "source": [
    "mask_l1 = np.copy(fixed_mask)\n",
    "mask_l2 = np.copy(fixed_mask)\n",
    "####unmask stds\n",
    "mask_l2[9]=1\n",
    "mask_l2[17]=1\n",
    "mask_l2[22]=1\n",
    "mask_l2[41]=1\n",
    "mask_l2[42]=1\n",
    "mask_l3 = np.copy(mask_l2)\n",
    "mask_l3[55] = 1 #bulk\n",
    "mask_l3[56] = 1 #bulk\n",
    "mask_l3[57] = 1 #bulk\n",
    "for i in range(68,77):\n",
    "    mask_l3[i]=1"
   ]
  },
  {
   "cell_type": "code",
   "execution_count": 16,
   "metadata": {
    "ExecuteTime": {
     "end_time": "2020-08-06T03:02:26.916393Z",
     "start_time": "2020-08-06T03:02:26.894102Z"
    }
   },
   "outputs": [],
   "source": [
    "#### The duplicated features:\n",
    "dup_ht={61:2,\n",
    "        63:3,\n",
    "        62:4,\n",
    "        64:5}\n",
    "mins = [7,19,24,38]\n",
    "maxs = [6,18,23,39]\n",
    "flags = [30,32,43,44,45,46,47,48,49,50]\n",
    "aggr_features=[9,17,22,41,42,55,56,57,68,69,70,71,72,73,74,75,76]"
   ]
  },
  {
   "cell_type": "code",
   "execution_count": 17,
   "metadata": {
    "ExecuteTime": {
     "end_time": "2020-08-06T03:02:51.334560Z",
     "start_time": "2020-08-06T03:02:51.294405Z"
    }
   },
   "outputs": [],
   "source": [
    "optimizer_001 = tf.keras.optimizers.Adam(learning_rate=0.001)\n",
    "optimizer_01 = tf.keras.optimizers.Adam(learning_rate=0.01)\n",
    "optimizer_1 = tf.keras.optimizers.Adam(learning_rate=0.1)\n",
    "optimizer_10 = tf.keras.optimizers.Adam(learning_rate=1.)\n",
    "all_optimizers = [optimizer_001,optimizer_01,optimizer_1,optimizer_10]\n",
    "for op in all_optimizers:\n",
    "    op.apply_gradients(zip([alpha],[alpha]))"
   ]
  },
  {
   "cell_type": "code",
   "execution_count": 18,
   "metadata": {
    "ExecuteTime": {
     "end_time": "2020-08-06T03:02:55.907562Z",
     "start_time": "2020-08-06T03:02:55.875434Z"
    }
   },
   "outputs": [],
   "source": [
    "def find_adv(source_index):\n",
    "    alpha.assign(np.zeros(alpha.shape))\n",
    "    ##### CHECK TO SEE IF IT NEEDS TO BE ADVERSARIALLY CHANGED #####\n",
    "    orig_sample = np.copy(x_test_mal[source_index][None])\n",
    "    adv_ex = get_adv(orig_sample,mask_l1)\n",
    "    sc = test_step(adv_ex)\n",
    "    sc = sc.numpy()\n",
    "    if sc<thr:\n",
    "        return 'no change'\n",
    "    mal_counter[0]+=1\n",
    "    backup_adv = [None]\n",
    "    def optimize(optimizer,total_iter,mask_v):\n",
    "        alpha.assign(np.zeros(alpha.shape))\n",
    "        for i in range(total_iter):\n",
    "            optim(orig_sample,mask_v,optimizer)\n",
    "            adv_ex = get_adv(orig_sample,mask_v)\n",
    "            adv_ex_np = adv_ex.numpy()\n",
    "            for k in dup_ht:\n",
    "                adv_ex_np[0,k] = adv_ex_np[0,dup_ht[k]]\n",
    "            adv_ex_np[0,mins] = np.maximum(0,adv_ex_np[0,mins])\n",
    "            adv_ex_np[0,mins] = np.minimum(orig_sample[0,mins],adv_ex_np[0,mins])\n",
    "            adv_ex_np[0,maxs] = np.maximum(orig_sample[0,maxs],adv_ex_np[0,maxs])\n",
    "            adv_ex_np[0,flags] = np.maximum(orig_sample[0,flags],adv_ex_np[0,flags])\n",
    "            flags_max_changed = np.max(adv_ex_np[0,flags] - orig_sample[0,flags])\n",
    "            adv_ex_np[0,aggr_features] = np.maximum(0,adv_ex_np[0,aggr_features])\n",
    "            adv_ex_np[0,2] = np.maximum(orig_sample[0,2]+flags_max_changed,adv_ex_np[0,2])\n",
    "            adv_ex_np[0,65] = np.maximum(0,adv_ex_np[0,65])\n",
    "            \n",
    "            ##### round the ones that should be rounded #### \n",
    "            adv_ex_np[0,decimal_features] = np.round(adv_ex_np[0,decimal_features])\n",
    "            ##################### recalculate dependent features ######################\n",
    "            adv_ex_np[0,4] = adv_ex_np[0,4] + (adv_ex_np[0,6]!=orig_sample[0,6])*adv_ex_np[0,6] + (adv_ex_np[0,7]!=orig_sample[0,7])*adv_ex_np[0,7]\n",
    "            adv_ex_np[0,8] = adv_ex_np[0,4]/adv_ex_np[0,2]\n",
    "            adv_ex_np[0,14]=(adv_ex_np[0,4]+adv_ex_np[0,5])/adv_ex_np[0,1]*1e6\n",
    "            adv_ex_np[0,15]=(adv_ex_np[0,2]+adv_ex_np[0,3])/adv_ex_np[0,1]*1e6\n",
    "            adv_ex_np[0,16]=adv_ex_np[0,1]/(adv_ex_np[0,2]+adv_ex_np[0,3]-1)\n",
    "            \n",
    "            adv_ex_np[0,21]=adv_ex_np[0,20]/(adv_ex_np[0,2]-1)\n",
    "            adv_ex_np[0,34]=adv_ex_np[0,34] + 20*(adv_ex_np[0,2] - orig_sample[0,2])\n",
    "            adv_ex_np[0,36]=adv_ex_np[0,2]/adv_ex_np[0,1]*1e6\n",
    "            \n",
    "            adv_ex_np[0,38]=np.minimum(adv_ex_np[0,38],adv_ex_np[0,7])\n",
    "            adv_ex_np[0,39]=np.maximum(adv_ex_np[0,39],adv_ex_np[0,6])\n",
    "            \n",
    "            adv_ex_np[0,40]=(adv_ex_np[0,4]+adv_ex_np[0,5])/(adv_ex_np[0,3]+adv_ex_np[0,2]+1)\n",
    "            adv_ex_np[0,51]=adv_ex_np[0,3]/adv_ex_np[0,2]\n",
    "            adv_ex_np[0,52]=(adv_ex_np[0,4]+adv_ex_np[0,5])/(adv_ex_np[0,3]+adv_ex_np[0,2])\n",
    "            adv_ex_np[0,53]=adv_ex_np[0,8]\n",
    "            adv_ex_np[0,67]=adv_ex_np[0,67] + (adv_ex_np[0,6]!=orig_sample[0,6])*1 + (adv_ex_np[0,7]!=orig_sample[0,7])*1\n",
    "            \n",
    "            adv_ex_np[np.isinf(adv_ex_np)]=0\n",
    "            adv_ex_np[np.isnan(adv_ex_np)]=0\n",
    "            sc = test_step(adv_ex_np)\n",
    "            sc = sc.numpy()\n",
    "            if sc<thr:\n",
    "                return adv_ex_np\n",
    "            if sc<real_thr and isinstance(backup_adv[0],type(None)):\n",
    "                backup_adv[0] = adv_ex_np\n",
    "                \n",
    "        return None\n",
    "\n",
    "    for mask in [mask_l1,mask_l2,mask_l3]:\n",
    "        res = optimize(optimizer_001,30,mask)\n",
    "        if isinstance(res,type(None)):\n",
    "            res = optimize(optimizer_01,40,mask)\n",
    "            if isinstance(res,type(None)):\n",
    "                res = optimize(optimizer_1,50,mask)\n",
    "                if isinstance(res,type(None)):\n",
    "                    res = optimize(optimizer_10,60,mask)\n",
    "        if isinstance(res,type(None))==False:\n",
    "            break\n",
    "    if isinstance(res,type(None)):\n",
    "        return backup_adv[0]\n",
    "    return res\n"
   ]
  },
  {
   "cell_type": "code",
   "execution_count": 19,
   "metadata": {
    "ExecuteTime": {
     "end_time": "2020-08-06T03:59:20.520066Z",
     "start_time": "2020-08-06T03:02:59.016557Z"
    },
    "scrolled": true
   },
   "outputs": [
    {
     "name": "stdout",
     "output_type": "stream",
     "text": [
      "DoS Slowhttptest (5000, 77)\n",
      "%%%%%%%%%%%%%%%%%%%%%%%%%%%%%%% 0 0.0005028247833251953 0 0 0\n",
      "WARNING:tensorflow:AutoGraph could not transform <function get_adv at 0x7f7230561200> and will run it as-is.\n",
      "Please report this to the TensorFlow team. When filing the bug, set the verbosity to 10 (on Linux, `export AUTOGRAPH_VERBOSITY=10`) and attach the full output.\n",
      "Cause: Bad argument number for Name: 3, expecting 4\n",
      "WARNING: AutoGraph could not transform <function get_adv at 0x7f7230561200> and will run it as-is.\n",
      "Please report this to the TensorFlow team. When filing the bug, set the verbosity to 10 (on Linux, `export AUTOGRAPH_VERBOSITY=10`) and attach the full output.\n",
      "Cause: Bad argument number for Name: 3, expecting 4\n",
      "WARNING:tensorflow:AutoGraph could not transform <function optim at 0x7f72305619e0> and will run it as-is.\n",
      "Please report this to the TensorFlow team. When filing the bug, set the verbosity to 10 (on Linux, `export AUTOGRAPH_VERBOSITY=10`) and attach the full output.\n",
      "Cause: module 'gast' has no attribute 'Str'\n",
      "WARNING: AutoGraph could not transform <function optim at 0x7f72305619e0> and will run it as-is.\n",
      "Please report this to the TensorFlow team. When filing the bug, set the verbosity to 10 (on Linux, `export AUTOGRAPH_VERBOSITY=10`) and attach the full output.\n",
      "Cause: module 'gast' has no attribute 'Str'\n"
     ]
    },
    {
     "name": "stderr",
     "output_type": "stream",
     "text": [
      "/home/mhlab/anaconda3-gpu/envs/tf2/lib/python3.7/site-packages/ipykernel_launcher.py:14: FutureWarning: elementwise comparison failed; returning scalar instead, but in the future will perform elementwise comparison\n",
      "  \n"
     ]
    },
    {
     "name": "stdout",
     "output_type": "stream",
     "text": [
      "%%%%%%%%%%%%%%%%%%%%%%%%%%%%%%% 50 21.25973892211914 24 3 23\n",
      "%%%%%%%%%%%%%%%%%%%%%%%%%%%%%%% 100 42.71625351905823 49 4 47\n",
      "%%%%%%%%%%%%%%%%%%%%%%%%%%%%%%% 150 64.01124715805054 74 5 71\n",
      "%%%%%%%%%%%%%%%%%%%%%%%%%%%%%%% 200 85.33162140846252 99 10 91\n",
      "%%%%%%%%%%%%%%%%%%%%%%%%%%%%%%% 250 106.69602179527283 124 13 113\n"
     ]
    },
    {
     "name": "stderr",
     "output_type": "stream",
     "text": [
      "/home/mhlab/anaconda3-gpu/envs/tf2/lib/python3.7/site-packages/ipykernel_launcher.py:38: RuntimeWarning: invalid value encountered in true_divide\n"
     ]
    },
    {
     "name": "stdout",
     "output_type": "stream",
     "text": [
      "%%%%%%%%%%%%%%%%%%%%%%%%%%%%%%% 300 134.27626299858093 156 13 131\n",
      "%%%%%%%%%%%%%%%%%%%%%%%%%%%%%%% 350 175.9238088130951 205 13 132\n",
      "%%%%%%%%%%%%%%%%%%%%%%%%%%%%%%% 400 209.77773523330688 245 14 141\n",
      "%%%%%%%%%%%%%%%%%%%%%%%%%%%%%%% 450 251.44416308403015 294 15 141\n",
      "%%%%%%%%%%%%%%%%%%%%%%%%%%%%%%% 500 283.8242542743683 332 16 152\n",
      "%%%%%%%%%%%%%%%%%%%%%%%%%%%%%%% 550 323.2611014842987 377 16 157\n",
      "%%%%%%%%%%%%%%%%%%%%%%%%%%%%%%% 600 365.6696226596832 427 16 157\n",
      "%%%%%%%%%%%%%%%%%%%%%%%%%%%%%%% 650 389.6036298274994 455 16 179\n",
      "%%%%%%%%%%%%%%%%%%%%%%%%%%%%%%% 700 427.66343665122986 500 17 183\n",
      "%%%%%%%%%%%%%%%%%%%%%%%%%%%%%%% 750 466.88040685653687 546 17 187\n",
      "%%%%%%%%%%%%%%%%%%%%%%%%%%%%%%% 800 507.7286374568939 594 18 188\n",
      "%%%%%%%%%%%%%%%%%%%%%%%%%%%%%%% 850 542.4872612953186 635 19 196\n",
      "%%%%%%%%%%%%%%%%%%%%%%%%%%%%%%% 900 572.3254790306091 670 19 211\n",
      "%%%%%%%%%%%%%%%%%%%%%%%%%%%%%%% 950 602.1352293491364 705 20 225\n",
      "%%%%%%%%%%%%%%%%%%%%%%%%%%%%%%% 1000 641.4263837337494 750 20 230\n",
      "%%%%%%%%%%%%%%%%%%%%%%%%%%%%%%% 1050 682.0083837509155 799 20 231\n",
      "%%%%%%%%%%%%%%%%%%%%%%%%%%%%%%% 1100 714.0027787685394 838 20 242\n",
      "%%%%%%%%%%%%%%%%%%%%%%%%%%%%%%% 1150 744.9346597194672 876 22 252\n",
      "%%%%%%%%%%%%%%%%%%%%%%%%%%%%%%% 1200 765.360267162323 901 27 272\n",
      "%%%%%%%%%%%%%%%%%%%%%%%%%%%%%%% 1250 804.7958874702454 947 27 276\n",
      "%%%%%%%%%%%%%%%%%%%%%%%%%%%%%%% 1300 846.4711890220642 996 27 277\n",
      "%%%%%%%%%%%%%%%%%%%%%%%%%%%%%%% 1350 850.8786537647247 997 46 307\n",
      "%%%%%%%%%%%%%%%%%%%%%%%%%%%%%%% 1400 855.5382068157196 999 62 339\n",
      "%%%%%%%%%%%%%%%%%%%%%%%%%%%%%%% 1450 858.4031565189362 999 79 372\n",
      "%%%%%%%%%%%%%%%%%%%%%%%%%%%%%%% 1500 863.6359052658081 1002 97 401\n",
      "%%%%%%%%%%%%%%%%%%%%%%%%%%%%%%% 1550 902.7769951820374 1048 101 401\n",
      "%%%%%%%%%%%%%%%%%%%%%%%%%%%%%%% 1600 945.3649327754974 1098 101 401\n",
      "%%%%%%%%%%%%%%%%%%%%%%%%%%%%%%% 1650 987.6168599128723 1148 101 401\n",
      "%%%%%%%%%%%%%%%%%%%%%%%%%%%%%%% 1700 1030.0495762825012 1198 101 401\n",
      "%%%%%%%%%%%%%%%%%%%%%%%%%%%%%%% 1750 1072.7209703922272 1247 101 402\n",
      "%%%%%%%%%%%%%%%%%%%%%%%%%%%%%%% 1800 1114.943766117096 1297 101 402\n",
      "%%%%%%%%%%%%%%%%%%%%%%%%%%%%%%% 1850 1152.9918842315674 1343 101 406\n",
      "%%%%%%%%%%%%%%%%%%%%%%%%%%%%%%% 1900 1193.8407385349274 1392 101 407\n",
      "%%%%%%%%%%%%%%%%%%%%%%%%%%%%%%% 1950 1234.6963617801666 1440 101 409\n",
      "%%%%%%%%%%%%%%%%%%%%%%%%%%%%%%% 2000 1275.276787519455 1490 101 409\n",
      "%%%%%%%%%%%%%%%%%%%%%%%%%%%%%%% 2050 1315.4588494300842 1539 101 410\n",
      "%%%%%%%%%%%%%%%%%%%%%%%%%%%%%%% 2100 1354.2686157226562 1585 101 414\n",
      "%%%%%%%%%%%%%%%%%%%%%%%%%%%%%%% 2150 1395.1975011825562 1634 101 415\n",
      "%%%%%%%%%%%%%%%%%%%%%%%%%%%%%%% 2200 1435.9533565044403 1684 101 415\n",
      "%%%%%%%%%%%%%%%%%%%%%%%%%%%%%%% 2250 1476.4159052371979 1734 101 415\n",
      "%%%%%%%%%%%%%%%%%%%%%%%%%%%%%%% 2300 1513.5145978927612 1779 102 419\n",
      "%%%%%%%%%%%%%%%%%%%%%%%%%%%%%%% 2350 1554.5154795646667 1829 102 419\n",
      "%%%%%%%%%%%%%%%%%%%%%%%%%%%%%%% 2400 1595.2251424789429 1879 102 419\n",
      "%%%%%%%%%%%%%%%%%%%%%%%%%%%%%%% 2450 1636.0400688648224 1929 102 419\n",
      "%%%%%%%%%%%%%%%%%%%%%%%%%%%%%%% 2500 1676.954134941101 1979 102 419\n",
      "%%%%%%%%%%%%%%%%%%%%%%%%%%%%%%% 2550 1714.9512088298798 2025 102 423\n",
      "%%%%%%%%%%%%%%%%%%%%%%%%%%%%%%% 2600 1755.5202066898346 2073 102 425\n",
      "%%%%%%%%%%%%%%%%%%%%%%%%%%%%%%% 2650 1796.2807111740112 2123 102 425\n",
      "%%%%%%%%%%%%%%%%%%%%%%%%%%%%%%% 2700 1837.033814907074 2172 102 426\n",
      "%%%%%%%%%%%%%%%%%%%%%%%%%%%%%%% 2750 1877.1669056415558 2221 102 427\n",
      "%%%%%%%%%%%%%%%%%%%%%%%%%%%%%%% 2800 1915.1064343452454 2265 102 433\n",
      "%%%%%%%%%%%%%%%%%%%%%%%%%%%%%%% 2850 1920.9818053245544 2270 123 457\n",
      "%%%%%%%%%%%%%%%%%%%%%%%%%%%%%%% 2900 1924.67205286026 2271 139 490\n",
      "%%%%%%%%%%%%%%%%%%%%%%%%%%%%%%% 2950 1927.5334594249725 2271 156 523\n",
      "%%%%%%%%%%%%%%%%%%%%%%%%%%%%%%% 3000 1948.4436361789703 2290 165 545\n",
      "%%%%%%%%%%%%%%%%%%%%%%%%%%%%%%% 3050 1982.3987197875977 2326 165 559\n",
      "%%%%%%%%%%%%%%%%%%%%%%%%%%%%%%% 3100 2017.6068966388702 2363 165 572\n",
      "%%%%%%%%%%%%%%%%%%%%%%%%%%%%%%% 3150 2050.9570965766907 2398 165 587\n",
      "%%%%%%%%%%%%%%%%%%%%%%%%%%%%%%% 3200 2086.3561069965363 2436 165 599\n",
      "%%%%%%%%%%%%%%%%%%%%%%%%%%%%%%% 3250 2118.6976640224457 2469 165 616\n",
      "%%%%%%%%%%%%%%%%%%%%%%%%%%%%%%% 3300 2153.7217180728912 2507 165 628\n",
      "%%%%%%%%%%%%%%%%%%%%%%%%%%%%%%% 3350 2186.6452820301056 2538 165 647\n",
      "%%%%%%%%%%%%%%%%%%%%%%%%%%%%%%% 3400 2215.7230064868927 2566 165 669\n",
      "%%%%%%%%%%%%%%%%%%%%%%%%%%%%%%% 3450 2245.3314340114594 2595 165 690\n",
      "%%%%%%%%%%%%%%%%%%%%%%%%%%%%%%% 3500 2275.9167342185974 2624 165 711\n",
      "%%%%%%%%%%%%%%%%%%%%%%%%%%%%%%% 3550 2310.1678338050842 2659 165 726\n",
      "%%%%%%%%%%%%%%%%%%%%%%%%%%%%%%% 3600 2351.101126909256 2709 165 726\n",
      "%%%%%%%%%%%%%%%%%%%%%%%%%%%%%%% 3650 2391.987817764282 2759 165 726\n",
      "%%%%%%%%%%%%%%%%%%%%%%%%%%%%%%% 3700 2432.537479162216 2809 165 726\n",
      "%%%%%%%%%%%%%%%%%%%%%%%%%%%%%%% 3750 2470.385954618454 2854 165 731\n",
      "%%%%%%%%%%%%%%%%%%%%%%%%%%%%%%% 3800 2511.2824013233185 2902 165 733\n",
      "%%%%%%%%%%%%%%%%%%%%%%%%%%%%%%% 3850 2551.4164559841156 2951 166 733\n",
      "%%%%%%%%%%%%%%%%%%%%%%%%%%%%%%% 3900 2593.102268218994 3001 166 733\n",
      "%%%%%%%%%%%%%%%%%%%%%%%%%%%%%%% 3950 2632.649405002594 3047 166 737\n",
      "%%%%%%%%%%%%%%%%%%%%%%%%%%%%%%% 4000 2674.893060207367 3096 166 738\n",
      "%%%%%%%%%%%%%%%%%%%%%%%%%%%%%%% 4050 2717.344393491745 3146 166 738\n",
      "%%%%%%%%%%%%%%%%%%%%%%%%%%%%%%% 4100 2759.7509224414825 3196 166 738\n",
      "%%%%%%%%%%%%%%%%%%%%%%%%%%%%%%% 4150 2799.5268065929413 3242 166 742\n",
      "%%%%%%%%%%%%%%%%%%%%%%%%%%%%%%% 4200 2841.6752350330353 3292 166 742\n",
      "%%%%%%%%%%%%%%%%%%%%%%%%%%%%%%% 4250 2884.02738571167 3341 166 743\n",
      "%%%%%%%%%%%%%%%%%%%%%%%%%%%%%%% 4300 2900.5268301963806 3359 177 764\n",
      "%%%%%%%%%%%%%%%%%%%%%%%%%%%%%%% 4350 2902.6696009635925 3359 193 798\n",
      "%%%%%%%%%%%%%%%%%%%%%%%%%%%%%%% 4400 2905.101970911026 3359 210 831\n",
      "%%%%%%%%%%%%%%%%%%%%%%%%%%%%%%% 4450 2931.7741782665253 3390 220 840\n",
      "%%%%%%%%%%%%%%%%%%%%%%%%%%%%%%% 4500 2972.5938005447388 3440 220 840\n",
      "%%%%%%%%%%%%%%%%%%%%%%%%%%%%%%% 4550 3013.4616878032684 3490 220 840\n",
      "%%%%%%%%%%%%%%%%%%%%%%%%%%%%%%% 4600 3054.5523393154144 3540 220 840\n",
      "%%%%%%%%%%%%%%%%%%%%%%%%%%%%%%% 4650 3095.49831199646 3590 220 840\n",
      "%%%%%%%%%%%%%%%%%%%%%%%%%%%%%%% 4700 3136.2480096817017 3639 220 841\n",
      "%%%%%%%%%%%%%%%%%%%%%%%%%%%%%%% 4750 3176.956906557083 3687 220 843\n",
      "%%%%%%%%%%%%%%%%%%%%%%%%%%%%%%% 4800 3218.045483112335 3737 220 843\n",
      "%%%%%%%%%%%%%%%%%%%%%%%%%%%%%%% 4850 3258.5808358192444 3787 220 843\n",
      "%%%%%%%%%%%%%%%%%%%%%%%%%%%%%%% 4900 3299.503453731537 3837 220 843\n",
      "%%%%%%%%%%%%%%%%%%%%%%%%%%%%%%% 4950 3340.57586145401 3886 220 844\n"
     ]
    }
   ],
   "source": [
    "x_test_mal = x_test[y_test==attack_type]\n",
    "x_test_mal = x_test_mal[:5000].astype(np.float32)\n",
    "x_test_adv = np.zeros_like(x_test_mal)\n",
    "mal_counter = [0]\n",
    "cons_as_mal = 0\n",
    "cons_as_ben = 0\n",
    "fooled = 0\n",
    "st = time.time()\n",
    "print (attack_type, x_test_mal.shape)\n",
    "for i in range(len(x_test_mal)):\n",
    "    if i%50==0:\n",
    "        print ('%%%%%%%%%%%%%%%%%%%%%%%%%%%%%%%',i,time.time()-st,cons_as_mal,cons_as_ben,fooled)\n",
    "    res = find_adv(i)\n",
    "    if res=='no change':\n",
    "        cons_as_ben+=1\n",
    "        x_test_adv[i] = np.copy(x_test_mal[i])\n",
    "    elif isinstance(res,type(None)):\n",
    "        cons_as_mal+=1\n",
    "        x_test_adv[i] = np.copy(x_test_mal[i])\n",
    "    else:\n",
    "        fooled+=1\n",
    "        x_test_adv[i] = res"
   ]
  },
  {
   "cell_type": "code",
   "execution_count": 20,
   "metadata": {
    "ExecuteTime": {
     "end_time": "2020-08-06T04:11:14.825905Z",
     "start_time": "2020-08-06T04:11:14.790522Z"
    }
   },
   "outputs": [
    {
     "name": "stdout",
     "output_type": "stream",
     "text": [
      "TPR of the attacker's local copy of the NIDS: 0.7872\n"
     ]
    }
   ],
   "source": [
    "print (\"TPR of the attacker's local copy of the NIDS: {0:0.4f}\".format(cons_as_mal/len(x_test_mal)))"
   ]
  },
  {
   "cell_type": "code",
   "execution_count": 21,
   "metadata": {
    "ExecuteTime": {
     "end_time": "2020-08-06T04:11:28.610296Z",
     "start_time": "2020-08-06T04:11:26.459176Z"
    }
   },
   "outputs": [
    {
     "name": "stdout",
     "output_type": "stream",
     "text": [
      "0 6.151199340820312e-05\n",
      "1000 0.4207577705383301\n",
      "2000 0.854802131652832\n",
      "3000 1.276214838027954\n",
      "4000 1.7088449001312256\n",
      "4999 2.1267755031585693\n",
      "TPR of the victim's NIDS: 0.8728\n"
     ]
    }
   ],
   "source": [
    "score_np2 = np.zeros(len(x_test_adv))\n",
    "begin_time = time.time()\n",
    "for i in range(len(x_test_adv)):\n",
    "    if i%1000==0:\n",
    "        print (i,time.time() - begin_time)\n",
    "    sample = x_test_adv[i][None]\n",
    "    score_temp = test_step(sample)\n",
    "    score_np2[i] = score_temp.numpy()\n",
    "print (i,time.time() - begin_time)\n",
    "mal_scores = score_np2\n",
    "print (\"TPR of the victim's NIDS: {0:0.4f}\".format(np.sum(mal_scores>=thr)/(0. + len(mal_scores))))"
   ]
  },
  {
   "cell_type": "code",
   "execution_count": null,
   "metadata": {},
   "outputs": [],
   "source": []
  }
 ],
 "metadata": {
  "kernelspec": {
   "display_name": "Python 3",
   "language": "python",
   "name": "python3"
  },
  "language_info": {
   "codemirror_mode": {
    "name": "ipython",
    "version": 3
   },
   "file_extension": ".py",
   "mimetype": "text/x-python",
   "name": "python",
   "nbconvert_exporter": "python",
   "pygments_lexer": "ipython3",
   "version": "3.7.7"
  },
  "toc": {
   "base_numbering": 1,
   "nav_menu": {},
   "number_sections": true,
   "sideBar": true,
   "skip_h1_title": false,
   "title_cell": "Table of Contents",
   "title_sidebar": "Contents",
   "toc_cell": false,
   "toc_position": {},
   "toc_section_display": true,
   "toc_window_display": false
  }
 },
 "nbformat": 4,
 "nbformat_minor": 4
}
