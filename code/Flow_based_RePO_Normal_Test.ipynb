{
 "cells": [
  {
   "cell_type": "code",
   "execution_count": 1,
   "metadata": {
    "ExecuteTime": {
     "end_time": "2020-08-04T07:40:37.295084Z",
     "start_time": "2020-08-04T07:40:36.160086Z"
    }
   },
   "outputs": [],
   "source": [
    "import tensorflow as tf\n",
    "import numpy as np\n",
    "%load_ext autoreload\n",
    "%autoreload 2\n",
    "import os\n",
    "import sys\n",
    "import time\n",
    "from tensorflow.keras.layers import Dense, Flatten, Dropout\n",
    "from tensorflow.keras import Model\n",
    "import pandas as pd"
   ]
  },
  {
   "cell_type": "code",
   "execution_count": 2,
   "metadata": {
    "ExecuteTime": {
     "end_time": "2020-08-04T07:40:38.074245Z",
     "start_time": "2020-08-04T07:40:38.031750Z"
    }
   },
   "outputs": [],
   "source": [
    "def get_test_set():\n",
    "    test_files = ['../data/flow_based/Tuesday-WH-generate-labeled.csv',\n",
    "                '../data/flow_based/Wednesday-WH-generate-labeled.csv',\n",
    "                '../data/flow_based/Thursday-WH-generate-labeled.csv',\n",
    "                '../data/flow_based/Friday-WH-generate-labeled.csv']\n",
    "    \n",
    "    train_min = np.load('../data/flow_based/x_train_meta/train_min.npy')\n",
    "    train_max = np.load('../data/flow_based/x_train_meta/train_max.npy')\n",
    "    \n",
    "    x_test_all = []\n",
    "    y_test_all = []\n",
    "    all_label_set = []\n",
    "    for i in range(len(test_files)):\n",
    "        print (i,test_files[i])\n",
    "        url_data = test_files[i]\n",
    "        df = pd.read_csv(url_data)\n",
    "\n",
    "        feats = df.iloc[:,8:]\n",
    "        ds_port = df.iloc[:,5]\n",
    "        df = pd.concat([ds_port,feats],axis=1)\n",
    "\n",
    "        labels = df.iloc[:,-1].values\n",
    "        label_set = set(labels)\n",
    "        all_label_set.append(label_set)\n",
    "\n",
    "        all_feats = df.iloc[:,:-1].astype(np.float64).values\n",
    "        known_data_IDs =(np.any(np.isinf(all_feats),axis=1) + np.any(np.isnan(all_feats),axis=1))==False\n",
    "        x_test = all_feats[known_data_IDs]\n",
    "        y_test = df.iloc[:,-1].values\n",
    "        y_test = y_test[known_data_IDs]\n",
    "        x_test = (x_test - train_min)/(train_max - train_min+1e-6)\n",
    "        x_test_all.append(x_test)\n",
    "        y_test_all.append(y_test)\n",
    "    x_test = np.concatenate(x_test_all,axis=0).astype(np.float32)\n",
    "    y_test = np.concatenate(y_test_all,axis=0)\n",
    "    \n",
    "    return x_test, y_test\n",
    "    \n",
    "    "
   ]
  },
  {
   "cell_type": "code",
   "execution_count": 3,
   "metadata": {
    "ExecuteTime": {
     "end_time": "2020-08-04T07:40:39.195739Z",
     "start_time": "2020-08-04T07:40:39.175174Z"
    }
   },
   "outputs": [],
   "source": [
    "@tf.function\n",
    "def test_step(x):\n",
    "    mask = tf.random.uniform(shape=[100*100,num_input])\n",
    "    mask = tf.cast((mask>0.75),tf.float32)\n",
    "    partial_x = mask*x\n",
    "    rec_x = model(partial_x, training=False)\n",
    "    score = tf.reduce_mean(tf.square(rec_x - x),axis=1)\n",
    "    return score"
   ]
  },
  {
   "cell_type": "code",
   "execution_count": 4,
   "metadata": {
    "ExecuteTime": {
     "end_time": "2020-08-04T07:40:43.253376Z",
     "start_time": "2020-08-04T07:40:43.231305Z"
    }
   },
   "outputs": [],
   "source": [
    "def get_scores(x_test):\n",
    "    plus_batch_size = 100\n",
    "    score_np = np.zeros(len(x_test)+plus_batch_size)\n",
    "    begin_time = time.time()\n",
    "    flag=False\n",
    "    for i in range(0,len(x_test),plus_batch_size):\n",
    "        if i%100000==0:\n",
    "            print (i,time.time() - begin_time)\n",
    "        sample = x_test[i:i+plus_batch_size]\n",
    "        if len(sample)<plus_batch_size:\n",
    "            temp = np.zeros((plus_batch_size-len(sample),num_input),np.float32)\n",
    "            sample = np.concatenate((sample,temp))\n",
    "        sample = sample.reshape(-1,1,num_input) +  np.zeros((100,num_input),np.float32)\n",
    "        sample = sample.reshape(-1,num_input)\n",
    "        rec_error = test_step(sample)\n",
    "        rec_error_np = rec_error.numpy().reshape(-1,5,20)\n",
    "        best_rec_err_val =  np.min(rec_error_np,axis=-1)\n",
    "        score_np[i:i+plus_batch_size] = np.sum(best_rec_err_val,axis=1)\n",
    "    score_np = score_np[:len(x_test)]\n",
    "    print (i,time.time() - begin_time)\n",
    "    return score_np"
   ]
  },
  {
   "cell_type": "code",
   "execution_count": 5,
   "metadata": {
    "ExecuteTime": {
     "end_time": "2020-08-04T07:41:03.573318Z",
     "start_time": "2020-08-04T07:40:49.152245Z"
    }
   },
   "outputs": [
    {
     "name": "stdout",
     "output_type": "stream",
     "text": [
      "0 ../data/flow_based/Tuesday-WH-generate-labeled.csv\n",
      "1 ../data/flow_based/Wednesday-WH-generate-labeled.csv\n",
      "2 ../data/flow_based/Thursday-WH-generate-labeled.csv\n",
      "3 ../data/flow_based/Friday-WH-generate-labeled.csv\n"
     ]
    }
   ],
   "source": [
    "model = tf.keras.models.load_model('../models/flw_model/')\n",
    "\n",
    "x_test, y_test = get_test_set()\n",
    "num_input = x_test.shape[1]"
   ]
  },
  {
   "cell_type": "code",
   "execution_count": 6,
   "metadata": {
    "ExecuteTime": {
     "end_time": "2020-08-04T07:41:04.365567Z",
     "start_time": "2020-08-04T07:41:04.344681Z"
    }
   },
   "outputs": [],
   "source": [
    "label_names = ['BENIGN','FTP-Patator','SSH-Patator','DoS slowloris','DoS Slowhttptest','DoS Hulk','DoS GoldenEye',\n",
    "          'Heartbleed','Web Attack','Infiltration', 'Bot', 'PortScan', 'DDoS']"
   ]
  },
  {
   "cell_type": "code",
   "execution_count": 7,
   "metadata": {
    "ExecuteTime": {
     "end_time": "2020-08-04T07:42:10.227941Z",
     "start_time": "2020-08-04T07:41:11.442570Z"
    },
    "scrolled": true
   },
   "outputs": [
    {
     "name": "stdout",
     "output_type": "stream",
     "text": [
      "0 5.245208740234375e-06\n",
      "WARNING:tensorflow:AutoGraph could not transform <function test_step at 0x7f76942ccb90> and will run it as-is.\n",
      "Please report this to the TensorFlow team. When filing the bug, set the verbosity to 10 (on Linux, `export AUTOGRAPH_VERBOSITY=10`) and attach the full output.\n",
      "Cause: Bad argument number for Name: 3, expecting 4\n",
      "WARNING: AutoGraph could not transform <function test_step at 0x7f76942ccb90> and will run it as-is.\n",
      "Please report this to the TensorFlow team. When filing the bug, set the verbosity to 10 (on Linux, `export AUTOGRAPH_VERBOSITY=10`) and attach the full output.\n",
      "Cause: Bad argument number for Name: 3, expecting 4\n",
      "100000 2.7350590229034424\n",
      "200000 5.412822723388672\n",
      "300000 7.99562406539917\n",
      "400000 10.628112077713013\n",
      "500000 13.132710456848145\n",
      "600000 15.636565446853638\n",
      "700000 18.2578866481781\n",
      "800000 20.94520330429077\n",
      "900000 23.59026598930359\n",
      "1000000 26.084503889083862\n",
      "1100000 28.587804555892944\n",
      "1200000 31.090156078338623\n",
      "1300000 33.59781336784363\n",
      "1400000 36.09732532501221\n",
      "1500000 38.602822065353394\n",
      "1600000 41.1103892326355\n",
      "1700000 43.60476350784302\n",
      "1800000 46.097843408584595\n",
      "1900000 48.80488991737366\n",
      "2000000 51.30574011802673\n",
      "2100000 53.81115961074829\n",
      "2200000 56.303956747055054\n",
      "2298400 58.759074211120605\n"
     ]
    }
   ],
   "source": [
    "all_scores = get_scores(x_test)"
   ]
  },
  {
   "cell_type": "code",
   "execution_count": 8,
   "metadata": {
    "ExecuteTime": {
     "end_time": "2020-08-04T07:42:33.355904Z",
     "start_time": "2020-08-04T07:42:33.192825Z"
    }
   },
   "outputs": [
    {
     "name": "stdout",
     "output_type": "stream",
     "text": [
      "0.10604535043239594\n"
     ]
    }
   ],
   "source": [
    "fpr = 0.01\n",
    "benign_scores = all_scores[y_test=='BENIGN']\n",
    "benign_scores_sorted = np.sort(benign_scores)\n",
    "thr_ind = int(np.ceil(len(benign_scores_sorted)*0.01))\n",
    "thr = benign_scores_sorted[-thr_ind]\n",
    "print (thr)\n"
   ]
  },
  {
   "cell_type": "code",
   "execution_count": 9,
   "metadata": {
    "ExecuteTime": {
     "end_time": "2020-08-04T07:42:37.239731Z",
     "start_time": "2020-08-04T07:42:36.915586Z"
    }
   },
   "outputs": [
    {
     "name": "stdout",
     "output_type": "stream",
     "text": [
      "FPR: 0.0100\n",
      "FTP-Patator: 0.0000\n",
      "SSH-Patator: 0.0003\n",
      "DoS slowloris: 0.1953\n",
      "DoS Slowhttptest: 0.1049\n",
      "DoS Hulk: 0.6239\n",
      "DoS GoldenEye: 0.2238\n",
      "Heartbleed: 1.0000\n",
      "Infiltration: 0.2500\n",
      "Bot: 0.0148\n",
      "PortScan: 0.0004\n",
      "DDoS: 0.3969\n"
     ]
    }
   ],
   "source": [
    "for i in range(len(label_names)):\n",
    "    #### Exclude web attacks from results\n",
    "    if label_names[i].find('Web')>=0:\n",
    "        continue\n",
    "    scores = all_scores[y_test==label_names[i]]\n",
    "    if i==0:\n",
    "        fpr = \"{0:0.4f}\".format(np.sum(scores>=thr)/(0. + len(scores)))\n",
    "        print('FPR:',fpr)\n",
    "    else:\n",
    "        tpr = \"{0:0.4f}\".format(np.sum(scores>=thr)/(0. + len(scores)))\n",
    "        print(label_names[i]+':',tpr)\n",
    "    "
   ]
  },
  {
   "cell_type": "code",
   "execution_count": null,
   "metadata": {},
   "outputs": [],
   "source": []
  }
 ],
 "metadata": {
  "kernelspec": {
   "display_name": "Python 3",
   "language": "python",
   "name": "python3"
  },
  "language_info": {
   "codemirror_mode": {
    "name": "ipython",
    "version": 3
   },
   "file_extension": ".py",
   "mimetype": "text/x-python",
   "name": "python",
   "nbconvert_exporter": "python",
   "pygments_lexer": "ipython3",
   "version": "3.7.7"
  },
  "toc": {
   "base_numbering": 1,
   "nav_menu": {},
   "number_sections": true,
   "sideBar": true,
   "skip_h1_title": false,
   "title_cell": "Table of Contents",
   "title_sidebar": "Contents",
   "toc_cell": false,
   "toc_position": {},
   "toc_section_display": true,
   "toc_window_display": false
  }
 },
 "nbformat": 4,
 "nbformat_minor": 4
}
