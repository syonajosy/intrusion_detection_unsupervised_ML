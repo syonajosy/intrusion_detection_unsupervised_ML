{
 "cells": [
  {
   "cell_type": "code",
   "execution_count": 1,
   "metadata": {
    "ExecuteTime": {
     "end_time": "2020-08-04T05:37:06.694358Z",
     "start_time": "2020-08-04T05:37:03.723433Z"
    }
   },
   "outputs": [],
   "source": [
    "import tensorflow as tf\n",
    "import numpy as np\n",
    "%load_ext autoreload\n",
    "%autoreload 2\n",
    "import os\n",
    "import sys\n",
    "import time\n",
    "from tensorflow.keras.layers import Dense, Flatten\n",
    "from tensorflow.keras import Model"
   ]
  },
  {
   "cell_type": "code",
   "execution_count": 2,
   "metadata": {
    "ExecuteTime": {
     "end_time": "2020-08-04T05:37:06.716809Z",
     "start_time": "2020-08-04T05:37:06.695442Z"
    }
   },
   "outputs": [],
   "source": [
    "def get_files(day,prefix = '../data/packet_based/'):\n",
    "    all_files = []\n",
    "    prefix = prefix+day\n",
    "    for file in os.listdir(prefix):\n",
    "        if file.endswith(\".npy\") and file.startswith('part'):\n",
    "            all_files.append(os.path.join(prefix, file))\n",
    "    all_files = sorted(all_files)\n",
    "    return all_files"
   ]
  },
  {
   "cell_type": "code",
   "execution_count": 3,
   "metadata": {
    "ExecuteTime": {
     "end_time": "2020-08-04T05:37:06.811308Z",
     "start_time": "2020-08-04T05:37:06.718006Z"
    }
   },
   "outputs": [],
   "source": [
    "def get_labels(timesteps=20):\n",
    "    # We move the window 20 steps forward at each time.\n",
    "    Y_test = []\n",
    "    for day in ['tuesday','wednesday','thursday','friday']:\n",
    "        temp = np.load('../data/packet_based/'+day+'/labels.npy')\n",
    "        Y_test.append(temp)\n",
    "    Ys = []\n",
    "    for yt in Y_test:\n",
    "        a = timesteps -  len(yt) % timesteps\n",
    "        temp = yt[:a]\n",
    "        y_test = np.concatenate((yt,temp),axis=0)\n",
    "        y_test = y_test.reshape(-1,timesteps)\n",
    "        y_test = y_test[:,-1]\n",
    "        Ys.append(y_test)\n",
    "    all_labels = np.concatenate(Ys,axis=0)\n",
    "    return all_labels"
   ]
  },
  {
   "cell_type": "code",
   "execution_count": 4,
   "metadata": {
    "ExecuteTime": {
     "end_time": "2020-08-04T05:37:06.902789Z",
     "start_time": "2020-08-04T05:37:06.813741Z"
    }
   },
   "outputs": [],
   "source": [
    "@tf.function\n",
    "def test_step(x):\n",
    "    mask = tf.random.uniform(shape=[50*100,timesteps,num_input])\n",
    "    mask = tf.cast((mask>0.75),tf.float32)\n",
    "    partial_x = mask*x\n",
    "    rec_x = model(partial_x, training=False)\n",
    "    score = tf.reduce_mean(tf.square(rec_x - x),axis=[1,2])\n",
    "    return score"
   ]
  },
  {
   "cell_type": "code",
   "execution_count": 5,
   "metadata": {
    "ExecuteTime": {
     "end_time": "2020-08-04T05:37:07.592615Z",
     "start_time": "2020-08-04T05:37:07.567833Z"
    }
   },
   "outputs": [],
   "source": [
    "def load_and_predict_with_repo(day):\n",
    "    all_files = get_files(day)\n",
    "    x_test = []\n",
    "    for f in all_files:\n",
    "        print (f)\n",
    "        x_test.append(np.load(f))\n",
    "    x_test = np.concatenate(x_test,axis=0)\n",
    "    x_test = (x_test - train_min)/(train_max - train_min+0.000001)\n",
    "    a = timesteps -  len(x_test) % timesteps\n",
    "    temp = x_test[:a]\n",
    "    x_test = np.concatenate((x_test,temp),axis=0)\n",
    "    x_test = x_test.reshape(-1,timesteps*num_input)\n",
    "    x_test = x_test.astype(np.float32)\n",
    "    score_np = np.zeros(len(x_test))\n",
    "    begin_time = time.time()\n",
    "    batch_size = 50*100\n",
    "    for i in range(0,len(x_test),batch_size):\n",
    "        if i%100000==0:\n",
    "            print(i,time.time() - begin_time)\n",
    "        sample = x_test[i:i+batch_size]\n",
    "        if len(sample)<batch_size:\n",
    "            break\n",
    "        sample = sample.reshape(-1,timesteps,num_input)\n",
    "        rec_error = test_step(sample)\n",
    "        try:\n",
    "            score_np[i:i+batch_size] = rec_error.numpy()  \n",
    "        except:\n",
    "            pass\n",
    "    total_time = time.time() - begin_time\n",
    "    print (i,total_time)\n",
    "    return score_np"
   ]
  },
  {
   "cell_type": "code",
   "execution_count": 6,
   "metadata": {
    "ExecuteTime": {
     "end_time": "2020-08-04T05:37:07.924054Z",
     "start_time": "2020-08-04T05:37:07.872152Z"
    }
   },
   "outputs": [],
   "source": [
    "def load_and_predict_with_repo_plus(day):\n",
    "    all_files = get_files(day)\n",
    "    x_test = []\n",
    "    for f in all_files:\n",
    "        print (f)\n",
    "        x_test.append(np.load(f))\n",
    "    x_test = np.concatenate(x_test,axis=0)\n",
    "    x_test = (x_test - train_min)/(train_max - train_min+0.000001)\n",
    "    a = timesteps -  len(x_test) % timesteps\n",
    "    temp = x_test[:a]\n",
    "    x_test = np.concatenate((x_test,temp),axis=0)\n",
    "    x_test = x_test.reshape(-1,timesteps*num_input)\n",
    "    x_test = x_test.astype(np.float32)\n",
    "    score_np = np.zeros(len(x_test))\n",
    "    begin_time = time.time()\n",
    "    plus_batch_size = 50\n",
    "    for i in range(0,len(x_test),plus_batch_size):\n",
    "        if i%100000==0:\n",
    "            print(i,time.time() - begin_time)\n",
    "        sample = x_test[i:i+plus_batch_size]\n",
    "        if len(sample)<plus_batch_size:\n",
    "            break\n",
    "        sample = sample.reshape(-1,1,timesteps,num_input) +  np.zeros((100,timesteps,num_input),np.float32)\n",
    "        sample = sample.reshape(-1,timesteps,num_input)\n",
    "        rec_error = test_step(sample)\n",
    "        rec_error_np = rec_error.numpy().reshape(-1,5,20)\n",
    "        best_rec_err_val =  np.min(rec_error_np,axis=-1)\n",
    "        try:\n",
    "            score_np[i:i+plus_batch_size] = np.sum(best_rec_err_val,axis=1)\n",
    "        except:\n",
    "            pass\n",
    "    total_time = time.time() - begin_time\n",
    "    print (i,total_time)\n",
    "    return score_np"
   ]
  },
  {
   "cell_type": "code",
   "execution_count": 7,
   "metadata": {
    "ExecuteTime": {
     "end_time": "2020-08-04T05:37:08.339287Z",
     "start_time": "2020-08-04T05:37:08.303407Z"
    }
   },
   "outputs": [],
   "source": [
    "label_names = ['Benign','FTP-Patator','SSH-Patator','Slowloris','Slowhttptest','Hulk','GoldenEye','Heartbleed', 'Web-Attack', 'Infiltration','Botnet','PortScan','DDoS']"
   ]
  },
  {
   "cell_type": "code",
   "execution_count": 8,
   "metadata": {
    "ExecuteTime": {
     "end_time": "2020-08-04T05:37:09.738759Z",
     "start_time": "2020-08-04T05:37:08.662852Z"
    }
   },
   "outputs": [],
   "source": [
    "train_min = np.load('../data/packet_based/x_train_meta/train_min.npy')\n",
    "train_max = np.load('../data/packet_based/x_train_meta/train_max.npy')\n",
    "\n",
    "timesteps = 20\n",
    "num_input = 29\n",
    "\n",
    "model = tf.keras.models.load_model('../models/pkt_model/')\n",
    "\n",
    "all_labels = get_labels()"
   ]
  },
  {
   "cell_type": "code",
   "execution_count": 9,
   "metadata": {
    "ExecuteTime": {
     "end_time": "2020-08-04T05:37:09.759395Z",
     "start_time": "2020-08-04T05:37:09.739831Z"
    },
    "scrolled": true
   },
   "outputs": [],
   "source": [
    "# predicted_scores = []\n",
    "# for day in ['tuesday','wednesday','thursday','friday']:\n",
    "#     score_temp = load_and_predict_with_repo(day)\n",
    "#     predicted_scores.append(score_temp)"
   ]
  },
  {
   "cell_type": "code",
   "execution_count": 10,
   "metadata": {
    "ExecuteTime": {
     "end_time": "2020-08-04T05:42:12.730267Z",
     "start_time": "2020-08-04T05:37:09.760572Z"
    },
    "scrolled": true
   },
   "outputs": [
    {
     "name": "stdout",
     "output_type": "stream",
     "text": [
      "../data/packet_based/tuesday/part_00000.npy\n",
      "../data/packet_based/tuesday/part_00001.npy\n",
      "../data/packet_based/tuesday/part_00002.npy\n",
      "../data/packet_based/tuesday/part_00003.npy\n",
      "../data/packet_based/tuesday/part_00004.npy\n",
      "../data/packet_based/tuesday/part_00005.npy\n",
      "../data/packet_based/tuesday/part_00006.npy\n",
      "../data/packet_based/tuesday/part_00007.npy\n",
      "../data/packet_based/tuesday/part_00008.npy\n",
      "../data/packet_based/tuesday/part_00009.npy\n",
      "../data/packet_based/tuesday/part_00010.npy\n",
      "../data/packet_based/tuesday/part_00011.npy\n",
      "../data/packet_based/tuesday/part_00012.npy\n",
      "../data/packet_based/tuesday/part_00013.npy\n",
      "../data/packet_based/tuesday/part_00014.npy\n",
      "../data/packet_based/tuesday/part_00015.npy\n",
      "../data/packet_based/tuesday/part_00016.npy\n",
      "../data/packet_based/tuesday/part_00017.npy\n",
      "../data/packet_based/tuesday/part_00018.npy\n",
      "../data/packet_based/tuesday/part_00019.npy\n",
      "../data/packet_based/tuesday/part_00020.npy\n",
      "../data/packet_based/tuesday/part_00021.npy\n",
      "../data/packet_based/tuesday/part_00022.npy\n",
      "../data/packet_based/tuesday/part_00023.npy\n",
      "0 6.198883056640625e-06\n",
      "WARNING:tensorflow:AutoGraph could not transform <function test_step at 0x7f6c144b1830> and will run it as-is.\n",
      "Please report this to the TensorFlow team. When filing the bug, set the verbosity to 10 (on Linux, `export AUTOGRAPH_VERBOSITY=10`) and attach the full output.\n",
      "Cause: Bad argument number for Name: 3, expecting 4\n",
      "WARNING: AutoGraph could not transform <function test_step at 0x7f6c144b1830> and will run it as-is.\n",
      "Please report this to the TensorFlow team. When filing the bug, set the verbosity to 10 (on Linux, `export AUTOGRAPH_VERBOSITY=10`) and attach the full output.\n",
      "Cause: Bad argument number for Name: 3, expecting 4\n",
      "100000 14.099825382232666\n",
      "200000 27.831923723220825\n",
      "300000 41.64850354194641\n",
      "400000 55.57238483428955\n",
      "500000 69.36271476745605\n",
      "591850 82.00494241714478\n",
      "../data/packet_based/wednesday/part_00000.npy\n",
      "../data/packet_based/wednesday/part_00001.npy\n",
      "../data/packet_based/wednesday/part_00002.npy\n",
      "../data/packet_based/wednesday/part_00003.npy\n",
      "../data/packet_based/wednesday/part_00004.npy\n",
      "../data/packet_based/wednesday/part_00005.npy\n",
      "../data/packet_based/wednesday/part_00006.npy\n",
      "../data/packet_based/wednesday/part_00007.npy\n",
      "../data/packet_based/wednesday/part_00008.npy\n",
      "../data/packet_based/wednesday/part_00009.npy\n",
      "../data/packet_based/wednesday/part_00010.npy\n",
      "../data/packet_based/wednesday/part_00011.npy\n",
      "../data/packet_based/wednesday/part_00012.npy\n",
      "../data/packet_based/wednesday/part_00013.npy\n",
      "../data/packet_based/wednesday/part_00014.npy\n",
      "../data/packet_based/wednesday/part_00015.npy\n",
      "../data/packet_based/wednesday/part_00016.npy\n",
      "../data/packet_based/wednesday/part_00017.npy\n",
      "../data/packet_based/wednesday/part_00018.npy\n",
      "../data/packet_based/wednesday/part_00019.npy\n",
      "../data/packet_based/wednesday/part_00020.npy\n",
      "../data/packet_based/wednesday/part_00021.npy\n",
      "../data/packet_based/wednesday/part_00022.npy\n",
      "../data/packet_based/wednesday/part_00023.npy\n",
      "../data/packet_based/wednesday/part_00024.npy\n",
      "../data/packet_based/wednesday/part_00025.npy\n",
      "../data/packet_based/wednesday/part_00026.npy\n",
      "../data/packet_based/wednesday/part_00027.npy\n",
      "../data/packet_based/wednesday/part_00028.npy\n",
      "0 5.9604644775390625e-06\n",
      "100000 12.004346370697021\n",
      "200000 24.136406421661377\n",
      "300000 36.22012186050415\n",
      "400000 48.44559097290039\n",
      "500000 60.60994338989258\n",
      "600000 72.67453622817993\n",
      "700000 84.67715191841125\n",
      "704100 85.17524290084839\n",
      "../data/packet_based/thursday/part_00000.npy\n",
      "../data/packet_based/thursday/part_00001.npy\n",
      "../data/packet_based/thursday/part_00002.npy\n",
      "../data/packet_based/thursday/part_00003.npy\n",
      "../data/packet_based/thursday/part_00004.npy\n",
      "../data/packet_based/thursday/part_00005.npy\n",
      "../data/packet_based/thursday/part_00006.npy\n",
      "../data/packet_based/thursday/part_00007.npy\n",
      "../data/packet_based/thursday/part_00008.npy\n",
      "../data/packet_based/thursday/part_00009.npy\n",
      "../data/packet_based/thursday/part_00010.npy\n",
      "../data/packet_based/thursday/part_00011.npy\n",
      "../data/packet_based/thursday/part_00012.npy\n",
      "../data/packet_based/thursday/part_00013.npy\n",
      "../data/packet_based/thursday/part_00014.npy\n",
      "../data/packet_based/thursday/part_00015.npy\n",
      "../data/packet_based/thursday/part_00016.npy\n",
      "../data/packet_based/thursday/part_00017.npy\n",
      "../data/packet_based/thursday/part_00018.npy\n",
      "../data/packet_based/thursday/part_00019.npy\n",
      "0 5.9604644775390625e-06\n",
      "100000 12.118659496307373\n",
      "200000 24.1296329498291\n",
      "300000 36.13357591629028\n",
      "400000 48.1402051448822\n",
      "479650 57.69952607154846\n",
      "../data/packet_based/friday/part_00000.npy\n",
      "../data/packet_based/friday/part_00001.npy\n",
      "../data/packet_based/friday/part_00002.npy\n",
      "../data/packet_based/friday/part_00003.npy\n",
      "../data/packet_based/friday/part_00004.npy\n",
      "../data/packet_based/friday/part_00005.npy\n",
      "../data/packet_based/friday/part_00006.npy\n",
      "../data/packet_based/friday/part_00007.npy\n",
      "../data/packet_based/friday/part_00008.npy\n",
      "../data/packet_based/friday/part_00009.npy\n",
      "../data/packet_based/friday/part_00010.npy\n",
      "../data/packet_based/friday/part_00011.npy\n",
      "../data/packet_based/friday/part_00012.npy\n",
      "../data/packet_based/friday/part_00013.npy\n",
      "../data/packet_based/friday/part_00014.npy\n",
      "../data/packet_based/friday/part_00015.npy\n",
      "../data/packet_based/friday/part_00016.npy\n",
      "../data/packet_based/friday/part_00017.npy\n",
      "../data/packet_based/friday/part_00018.npy\n",
      "../data/packet_based/friday/part_00019.npy\n",
      "../data/packet_based/friday/part_00020.npy\n",
      "0 6.67572021484375e-06\n",
      "100000 11.998270511627197\n",
      "200000 24.120781421661377\n",
      "300000 36.10569620132446\n",
      "400000 48.097249031066895\n",
      "500000 60.102078914642334\n",
      "512600 61.62203884124756\n"
     ]
    }
   ],
   "source": [
    "predicted_scores = []\n",
    "for day in ['tuesday','wednesday','thursday','friday']:\n",
    "    score_temp = load_and_predict_with_repo_plus(day)\n",
    "    predicted_scores.append(score_temp)"
   ]
  },
  {
   "cell_type": "code",
   "execution_count": 14,
   "metadata": {
    "ExecuteTime": {
     "end_time": "2020-08-04T05:43:16.220755Z",
     "start_time": "2020-08-04T05:43:16.200213Z"
    }
   },
   "outputs": [
    {
     "name": "stdout",
     "output_type": "stream",
     "text": [
      "(2216623,) (2216623,)\n"
     ]
    }
   ],
   "source": [
    "predicted_scores = np.concatenate(predicted_scores,axis=0)\n",
    "real_labels = all_labels!=-1\n",
    "all_scores = predicted_scores[real_labels]\n",
    "all_labels = all_labels[real_labels]\n",
    "print (all_labels.shape,all_scores.shape)"
   ]
  },
  {
   "cell_type": "code",
   "execution_count": 15,
   "metadata": {
    "ExecuteTime": {
     "end_time": "2020-08-04T05:43:28.120545Z",
     "start_time": "2020-08-04T05:43:27.936720Z"
    }
   },
   "outputs": [
    {
     "name": "stdout",
     "output_type": "stream",
     "text": [
      "0.14273786544799805\n"
     ]
    }
   ],
   "source": [
    "fpr = 0.01\n",
    "benign_scores_sorted = np.sort(all_scores[all_labels==0])\n",
    "thr_ind = benign_scores_sorted.shape[0]*fpr\n",
    "thr_ind = int(np.round(thr_ind))\n",
    "thr = benign_scores_sorted[-thr_ind]\n",
    "print (thr)"
   ]
  },
  {
   "cell_type": "code",
   "execution_count": 16,
   "metadata": {
    "ExecuteTime": {
     "end_time": "2020-08-04T05:43:33.516235Z",
     "start_time": "2020-08-04T05:43:33.472578Z"
    }
   },
   "outputs": [
    {
     "name": "stdout",
     "output_type": "stream",
     "text": [
      "FPR: 0.0100\n",
      "FTP-Patator: 0.1914\n",
      "SSH-Patator: 0.0007\n",
      "Slowloris: 0.4929\n",
      "Slowhttptest: 0.7290\n",
      "Hulk: 0.2666\n",
      "GoldenEye: 0.1049\n",
      "Heartbleed: 0.0000\n",
      "Infiltration: 0.7994\n",
      "Botnet: 0.0000\n",
      "PortScan: 0.9932\n",
      "DDoS: 0.2530\n"
     ]
    }
   ],
   "source": [
    "for i in range(len(label_names)):\n",
    "    #### Exclude web attacks from results\n",
    "    if label_names[i]=='Web-Attack':\n",
    "        continue\n",
    "    scores = all_scores[all_labels==i]\n",
    "    if i==0:\n",
    "        fpr = \"{0:0.4f}\".format(np.sum(scores>=thr)/(0. + len(scores)))\n",
    "        print('FPR:',fpr)\n",
    "    else:\n",
    "        tpr = \"{0:0.4f}\".format(np.sum(scores>=thr)/(0. + len(scores)))\n",
    "        print(label_names[i]+':',tpr)\n",
    "    "
   ]
  },
  {
   "cell_type": "code",
   "execution_count": null,
   "metadata": {},
   "outputs": [],
   "source": []
  }
 ],
 "metadata": {
  "kernelspec": {
   "display_name": "Python 3",
   "language": "python",
   "name": "python3"
  },
  "language_info": {
   "codemirror_mode": {
    "name": "ipython",
    "version": 3
   },
   "file_extension": ".py",
   "mimetype": "text/x-python",
   "name": "python",
   "nbconvert_exporter": "python",
   "pygments_lexer": "ipython3",
   "version": "3.7.7"
  },
  "toc": {
   "base_numbering": 1,
   "nav_menu": {},
   "number_sections": true,
   "sideBar": true,
   "skip_h1_title": false,
   "title_cell": "Table of Contents",
   "title_sidebar": "Contents",
   "toc_cell": false,
   "toc_position": {},
   "toc_section_display": true,
   "toc_window_display": false
  }
 },
 "nbformat": 4,
 "nbformat_minor": 4
}
