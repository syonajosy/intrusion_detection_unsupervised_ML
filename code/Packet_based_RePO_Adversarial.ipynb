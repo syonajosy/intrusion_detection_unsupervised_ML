{
 "cells": [
  {
   "cell_type": "code",
   "execution_count": 1,
   "metadata": {
    "ExecuteTime": {
     "end_time": "2020-08-06T10:09:22.290895Z",
     "start_time": "2020-08-06T10:09:21.138048Z"
    }
   },
   "outputs": [],
   "source": [
    "import tensorflow as tf\n",
    "import numpy as np\n",
    "%load_ext autoreload\n",
    "%autoreload 2\n",
    "import os\n",
    "import sys\n",
    "import time\n",
    "from tensorflow.keras.layers import Dense, Flatten\n",
    "from tensorflow.keras import Model"
   ]
  },
  {
   "cell_type": "code",
   "execution_count": 2,
   "metadata": {
    "ExecuteTime": {
     "end_time": "2020-08-06T10:09:22.313717Z",
     "start_time": "2020-08-06T10:09:22.292319Z"
    }
   },
   "outputs": [],
   "source": [
    "### At this threshold the FPR of the model we trained is 0.1\n",
    "thr = 0.08106673508882523 "
   ]
  },
  {
   "cell_type": "code",
   "execution_count": 3,
   "metadata": {
    "ExecuteTime": {
     "end_time": "2020-08-06T10:09:22.449065Z",
     "start_time": "2020-08-06T10:09:22.405520Z"
    }
   },
   "outputs": [],
   "source": [
    "attack_types = ['FTP-Patator','SSH-Patator','Slowloris','Slowhttptest','Hulk','GoldenEye','Heartbleed', 'Web-Attack', 'Infiltration','Botnet','PortScan','DDoS']"
   ]
  },
  {
   "cell_type": "code",
   "execution_count": 4,
   "metadata": {
    "ExecuteTime": {
     "end_time": "2020-08-06T10:09:22.865164Z",
     "start_time": "2020-08-06T10:09:22.844468Z"
    }
   },
   "outputs": [],
   "source": [
    "attack_to_label={\n",
    "    'FTP-Patator':1,'SSH-Patator':2, #Tuesday attacks\n",
    "    'Slowloris':3,'Slowhttptest':4,'Hulk':5,'GoldenEye':6,'Heartbleed':7, #Wednesday attacks\n",
    "    'Web-Attack':8, 'Infiltration':9, #Thursday attacks\n",
    "    'Botnet':10,'PortScan':11,'DDoS':12 #Friday attacks\n",
    "}"
   ]
  },
  {
   "cell_type": "code",
   "execution_count": 5,
   "metadata": {
    "ExecuteTime": {
     "end_time": "2020-08-06T10:09:23.204467Z",
     "start_time": "2020-08-06T10:09:23.184375Z"
    }
   },
   "outputs": [],
   "source": [
    "def get_files(day,prefix = '../data/packet_based/'):\n",
    "    all_files = []\n",
    "    prefix = prefix+day\n",
    "    for file in os.listdir(prefix):\n",
    "        if file.endswith(\".npy\") and file.startswith('part'):\n",
    "            all_files.append(os.path.join(prefix, file))\n",
    "    all_files = sorted(all_files)\n",
    "    return all_files"
   ]
  },
  {
   "cell_type": "code",
   "execution_count": 6,
   "metadata": {
    "ExecuteTime": {
     "end_time": "2020-08-06T10:09:23.679523Z",
     "start_time": "2020-08-06T10:09:23.628878Z"
    }
   },
   "outputs": [],
   "source": [
    "def get_test_set(day):\n",
    "    train_min = np.load('../data/packet_based/x_train_meta/train_min.npy')\n",
    "    train_max = np.load('../data/packet_based/x_train_meta/train_max.npy')\n",
    "    \n",
    "    all_files = get_files(day)\n",
    "    x_test = []\n",
    "    for f in all_files:\n",
    "        print (f)\n",
    "        x_test.append(np.load(f))\n",
    "    x_test = np.concatenate(x_test,axis=0)\n",
    "\n",
    "    yt = np.load('../data/packet_based/'+day+'/labels.npy')\n",
    "    y_test = yt\n",
    "    return x_test,y_test,train_min,train_max"
   ]
  },
  {
   "cell_type": "code",
   "execution_count": 7,
   "metadata": {
    "ExecuteTime": {
     "end_time": "2020-08-06T10:09:24.606328Z",
     "start_time": "2020-08-06T10:09:24.585490Z"
    }
   },
   "outputs": [],
   "source": [
    "@tf.function\n",
    "def test_step(x):\n",
    "    def_mask = tf.random.uniform(shape=[1*100,timesteps,num_input])\n",
    "    def_mask = tf.cast((def_mask>0.75),tf.float32)\n",
    "    x_normalized =(x - train_min)/(train_max - train_min+0.000001)\n",
    "\n",
    "    partial_x = def_mask*x_normalized\n",
    "    rec_x = model(partial_x, training=False)\n",
    "    score = tf.reduce_mean(tf.square(rec_x - x_normalized),axis=[1,2])\n",
    "    score = tf.reduce_min(tf.reshape(score,[5,20]),axis=-1)\n",
    "    score = tf.reduce_sum(score)\n",
    "    return score"
   ]
  },
  {
   "cell_type": "code",
   "execution_count": 8,
   "metadata": {
    "ExecuteTime": {
     "end_time": "2020-08-06T10:09:25.058147Z",
     "start_time": "2020-08-06T10:09:25.039603Z"
    }
   },
   "outputs": [],
   "source": [
    "attack_type = 'FTP-Patator'"
   ]
  },
  {
   "cell_type": "code",
   "execution_count": 9,
   "metadata": {
    "ExecuteTime": {
     "end_time": "2020-08-06T10:09:25.363953Z",
     "start_time": "2020-08-06T10:09:25.332359Z"
    }
   },
   "outputs": [],
   "source": [
    "if attack_type in ['FTP-Patator','SSH-Patator']:\n",
    "    day = 'tuesday'\n",
    "elif attack_type in ['Slowloris','Slowhttptest','Hulk','GoldenEye','Heartbleed']:\n",
    "    day = 'wednesday'\n",
    "elif attack_type in ['Web-Attack', 'Infiltration']:\n",
    "    day = 'thursday'\n",
    "else:\n",
    "    day = 'friday'"
   ]
  },
  {
   "cell_type": "code",
   "execution_count": 10,
   "metadata": {
    "ExecuteTime": {
     "end_time": "2020-08-06T10:09:27.151733Z",
     "start_time": "2020-08-06T10:09:25.685990Z"
    }
   },
   "outputs": [
    {
     "name": "stdout",
     "output_type": "stream",
     "text": [
      "../data/packet_based/tuesday/part_00000.npy\n",
      "../data/packet_based/tuesday/part_00001.npy\n",
      "../data/packet_based/tuesday/part_00002.npy\n",
      "../data/packet_based/tuesday/part_00003.npy\n",
      "../data/packet_based/tuesday/part_00004.npy\n",
      "../data/packet_based/tuesday/part_00005.npy\n",
      "../data/packet_based/tuesday/part_00006.npy\n",
      "../data/packet_based/tuesday/part_00007.npy\n",
      "../data/packet_based/tuesday/part_00008.npy\n",
      "../data/packet_based/tuesday/part_00009.npy\n",
      "../data/packet_based/tuesday/part_00010.npy\n",
      "../data/packet_based/tuesday/part_00011.npy\n",
      "../data/packet_based/tuesday/part_00012.npy\n",
      "../data/packet_based/tuesday/part_00013.npy\n",
      "../data/packet_based/tuesday/part_00014.npy\n",
      "../data/packet_based/tuesday/part_00015.npy\n",
      "../data/packet_based/tuesday/part_00016.npy\n",
      "../data/packet_based/tuesday/part_00017.npy\n",
      "../data/packet_based/tuesday/part_00018.npy\n",
      "../data/packet_based/tuesday/part_00019.npy\n",
      "../data/packet_based/tuesday/part_00020.npy\n",
      "../data/packet_based/tuesday/part_00021.npy\n",
      "../data/packet_based/tuesday/part_00022.npy\n",
      "../data/packet_based/tuesday/part_00023.npy\n",
      "(11837595, 29) (11837595,)\n"
     ]
    }
   ],
   "source": [
    "x_test,y_test,train_min,train_max = get_test_set(day)\n",
    "timesteps = 20\n",
    "num_input = x_test.shape[1]\n",
    "print(x_test.shape,y_test.shape)\n",
    "\n",
    "model = tf.keras.models.load_model('../models/pkt_model/')"
   ]
  },
  {
   "cell_type": "code",
   "execution_count": 11,
   "metadata": {
    "ExecuteTime": {
     "end_time": "2020-08-06T10:09:37.065031Z",
     "start_time": "2020-08-06T10:09:27.152633Z"
    }
   },
   "outputs": [
    {
     "name": "stdout",
     "output_type": "stream",
     "text": [
      "(110755, 29)\n",
      "0 6.699562072753906e-05\n",
      "WARNING:tensorflow:AutoGraph could not transform <function test_step at 0x7fb5bb18f0e0> and will run it as-is.\n",
      "Please report this to the TensorFlow team. When filing the bug, set the verbosity to 10 (on Linux, `export AUTOGRAPH_VERBOSITY=10`) and attach the full output.\n",
      "Cause: Bad argument number for Name: 3, expecting 4\n",
      "WARNING: AutoGraph could not transform <function test_step at 0x7fb5bb18f0e0> and will run it as-is.\n",
      "Please report this to the TensorFlow team. When filing the bug, set the verbosity to 10 (on Linux, `export AUTOGRAPH_VERBOSITY=10`) and attach the full output.\n",
      "Cause: Bad argument number for Name: 3, expecting 4\n",
      "10000 4.108991861343384\n",
      "20000 7.941640138626099\n",
      "24979 9.858086347579956\n",
      "TPR in normal setting for FTP-Patator is 0.7560\n"
     ]
    }
   ],
   "source": [
    "attack_label = attack_to_label[attack_type]\n",
    "x_test_mal = x_test[y_test==attack_label]\n",
    "x_test_mal = np.concatenate((np.zeros((timesteps-1,num_input)),x_test_mal),axis=0)\n",
    "print (x_test_mal.shape)\n",
    "x_test_mal = x_test_mal[:25000].astype(np.float32)\n",
    "score_np = np.zeros(len(x_test_mal))\n",
    "st = timesteps-1\n",
    "begin_time = time.time()\n",
    "for i in range(len(x_test_mal)-timesteps):\n",
    "    if i%10000==0:\n",
    "        print (i,time.time() - begin_time)\n",
    "    sample = x_test_mal[i:i+timesteps][None]\n",
    "    score_temp = test_step(sample)\n",
    "    score_np[st+i] = score_temp.numpy()\n",
    "print (i,time.time() - begin_time)\n",
    "\n",
    "mal_scores = score_np[timesteps:]\n",
    "print (\"TPR in normal setting for \"+attack_type+\" is {0:0.4f}\".format(np.sum(mal_scores>=thr)/len(mal_scores)))"
   ]
  },
  {
   "cell_type": "markdown",
   "metadata": {},
   "source": [
    "# Crafting Adversarial Examples"
   ]
  },
  {
   "cell_type": "code",
   "execution_count": 12,
   "metadata": {
    "ExecuteTime": {
     "end_time": "2020-08-06T10:09:39.325808Z",
     "start_time": "2020-08-06T10:09:39.304363Z"
    }
   },
   "outputs": [],
   "source": [
    "alpha_delay = tf.Variable(np.zeros((1, 1,num_input),dtype=np.float32),name='delay')\n",
    "alpha_split = tf.Variable(np.zeros((1),dtype=np.float32),name='split')\n",
    "alpha_inject = tf.Variable(np.zeros((1, 1,num_input), dtype=np.float32),name='modifier')"
   ]
  },
  {
   "cell_type": "code",
   "execution_count": 13,
   "metadata": {
    "ExecuteTime": {
     "end_time": "2020-08-06T10:09:39.750091Z",
     "start_time": "2020-08-06T10:09:39.708333Z"
    }
   },
   "outputs": [],
   "source": [
    "optimizer = tf.keras.optimizers.Adam(learning_rate=0.1)"
   ]
  },
  {
   "cell_type": "code",
   "execution_count": 14,
   "metadata": {
    "ExecuteTime": {
     "end_time": "2020-08-06T10:09:40.217556Z",
     "start_time": "2020-08-06T10:09:40.194999Z"
    }
   },
   "outputs": [],
   "source": [
    "@tf.function\n",
    "def get_delayed_splited(x,p_len):\n",
    "    alpha_split_2 = tf.zeros((1,1,num_input)) + alpha_split\n",
    "    alpha_split_2 = tf.minimum(alpha_split_2,0.)\n",
    "    alpha_split_2 = tf.maximum(alpha_split_2,-p_len+np.float32(61))\n",
    "    alpha_delay_2 = tf.maximum(alpha_delay,0.)\n",
    "    alpha_delay_2 = tf.minimum(alpha_delay_2,15.)\n",
    "    mask = np.ones((1,1,29))\n",
    "    masked_alpha = alpha_delay_2*mask\n",
    "    mask_split = np.zeros((1,1,29))\n",
    "    mask_split[0,0,1] = mask_split[0,0,3] = 1\n",
    "    mask_split = mask_split.astype(np.bool)\n",
    "    alpha_final = tf.where(mask_split,alpha_split_2,masked_alpha)\n",
    "\n",
    "    last_ts_modified = x[0,-1]+alpha_final\n",
    "    adv_x = tf.concat((x[:,:19],last_ts_modified),axis=1)\n",
    "    return adv_x"
   ]
  },
  {
   "cell_type": "code",
   "execution_count": 15,
   "metadata": {
    "ExecuteTime": {
     "end_time": "2020-08-06T10:09:40.885103Z",
     "start_time": "2020-08-06T10:09:40.864620Z"
    }
   },
   "outputs": [],
   "source": [
    "@tf.function\n",
    "def delay_split_optim(x,p_len):\n",
    "    with tf.GradientTape() as tape:\n",
    "        adv_x = get_delayed_splited(x,p_len)\n",
    "        adv_x_normalized = (adv_x- train_min)/(train_max - train_min+0.000001)\n",
    "        rand_mask = tf.random.uniform(shape=[100,timesteps,num_input])\n",
    "        rand_mask = tf.cast((rand_mask>0.75),tf.float32)\n",
    "        partial_adv_x_n = adv_x_normalized*rand_mask\n",
    "        rec_adv_x_n = model(partial_adv_x_n,training=False)\n",
    "        score1_split = tf.reduce_mean(tf.square(rec_adv_x_n - adv_x_normalized),axis=[1,2])\n",
    "        score1_split = tf.reduce_sum(score1_split)\n",
    "        loss_split = score1_split\n",
    "        \n",
    "    gradients = tape.gradient(loss_split, [alpha_delay,alpha_split])\n",
    "    optimizer.apply_gradients(zip(gradients, [alpha_delay,alpha_split]))\n"
   ]
  },
  {
   "cell_type": "code",
   "execution_count": 16,
   "metadata": {
    "ExecuteTime": {
     "end_time": "2020-08-06T10:09:41.267420Z",
     "start_time": "2020-08-06T10:09:41.232618Z"
    }
   },
   "outputs": [],
   "source": [
    "@tf.function\n",
    "def get_injected(x,inject_mask):\n",
    "    packet_mins = [0,60,20,0,0,0,0,1,1,1,1,1,0,0,0,0,0,0,0,0,0,0,1,1,0,1,1,0,1]\n",
    "    packet_maxs = [15,2**16,20,2**16,1,1,1,255,2**16,2**16,2**32,2**32,1,1,1,1,1,1,1,1,1,1,2**16,2**16,2**16,2**16,2**16,0,1]\n",
    "    alpha_inject_2 = tf.minimum(alpha_inject,packet_maxs)\n",
    "    alpha_inject_2 = tf.maximum(alpha_inject_2,packet_mins)\n",
    "    alpha_inject_masked= alpha_inject_2*inject_mask\n",
    "    adv_x1 = tf.concat((x[:,:19],alpha_inject_masked),axis=1)\n",
    "    adv_x2 = tf.concat((x[:,1:19],alpha_inject_masked,x[:,19:]),axis=1)\n",
    "    return adv_x1,adv_x2"
   ]
  },
  {
   "cell_type": "code",
   "execution_count": 17,
   "metadata": {
    "ExecuteTime": {
     "end_time": "2020-08-06T10:09:41.728477Z",
     "start_time": "2020-08-06T10:09:41.678130Z"
    }
   },
   "outputs": [],
   "source": [
    "@tf.function\n",
    "def inject_optim(x,inject_mask):\n",
    "    with tf.GradientTape() as tape:\n",
    "        adv_x1,adv_x2 = get_injected(x,inject_mask)\n",
    "        adv_x1_normalized = (adv_x1- train_min)/(train_max - train_min+0.000001)\n",
    "        adv_x2_normalized = (adv_x2- train_min)/(train_max - train_min+0.000001)\n",
    "        rand_mask = tf.random.uniform(shape=[100,timesteps,num_input])\n",
    "        rand_mask = tf.cast((rand_mask>0.75),tf.float32)\n",
    "        partial_adv_x_n1 = adv_x1_normalized*rand_mask\n",
    "        rand_mask = tf.random.uniform(shape=[100,timesteps,num_input])\n",
    "        rand_mask = tf.cast((rand_mask>0.75),tf.float32)\n",
    "        partial_adv_x_n2 = adv_x2_normalized*rand_mask\n",
    "        rec_adv_x_n1 = model(partial_adv_x_n1,training=False)\n",
    "        rec_adv_x_n2 = model(partial_adv_x_n2,training=False)\n",
    "        score1_inject1 = tf.reduce_mean(tf.square(rec_adv_x_n1 - adv_x1_normalized),axis=[1,2])\n",
    "        score1_inject1 = tf.reduce_sum(score1_inject1)\n",
    "        score1_inject2 = tf.reduce_mean(tf.square(rec_adv_x_n2 - adv_x2_normalized),axis=[1,2])\n",
    "        score1_inject2 = tf.reduce_sum(score1_inject2)\n",
    "        loss_inject = score1_inject1 + score1_inject2\n",
    "\n",
    "    gradients = tape.gradient(loss_inject, [alpha_inject])\n",
    "    optimizer.apply_gradients(zip(gradients, [alpha_inject]))"
   ]
  },
  {
   "cell_type": "code",
   "execution_count": 18,
   "metadata": {
    "ExecuteTime": {
     "end_time": "2020-08-06T10:09:42.564717Z",
     "start_time": "2020-08-06T10:09:42.544540Z"
    }
   },
   "outputs": [],
   "source": [
    "def find_adv(x):\n",
    "    sc = test_step(x)\n",
    "    sc = sc.numpy()\n",
    "    if sc<thr:\n",
    "        return 'cons_as_ben'\n",
    "    if x[0,-1,-1]==2: #packet is sent from victim\n",
    "        return inject(np.copy(x))\n",
    "    \n",
    "    #packet is sent from attacker\n",
    "    res = delay_and_split(np.copy(x))\n",
    "    if res and len(res)>0:\n",
    "        return ('split',res)\n",
    "    i_res = inject(np.copy(x))\n",
    "    return i_res"
   ]
  },
  {
   "cell_type": "code",
   "execution_count": 19,
   "metadata": {
    "ExecuteTime": {
     "end_time": "2020-08-06T10:09:43.127125Z",
     "start_time": "2020-08-06T10:09:43.104510Z"
    }
   },
   "outputs": [],
   "source": [
    "def delay_and_split(x):\n",
    "    alpha_delay.assign(np.zeros(alpha_delay.shape))\n",
    "    alpha_split.assign(np.zeros(alpha_split.shape))\n",
    "    len_last = x[0,-1,1]\n",
    "    ip_len_last = x[0,-1,3]\n",
    "    adv_x = get_delayed_splited(x,len_last)\n",
    "    adv_x = adv_x.numpy()\n",
    "    sc = test_step(adv_x)\n",
    "    sc = sc.numpy()\n",
    "    if sc<thr:\n",
    "        return [adv_x]\n",
    "    res = []\n",
    "    for i in range(300):\n",
    "        delay_split_optim(x,len_last)\n",
    "        adv_x = get_delayed_splited(x,len_last)\n",
    "        adv_x = adv_x.numpy()\n",
    "        adv_x[0,-1,1:4] = np.round(adv_x[0,-1,1:4])\n",
    "        sc = test_step(adv_x)\n",
    "        sc = sc.numpy()\n",
    "        if sc<thr:\n",
    "            first_part = np.copy(adv_x)\n",
    "            diff = len_last - adv_x[0,-1,1] \n",
    "            if diff>0:\n",
    "                adv_x[0,-1,1] = diff + 60\n",
    "                adv_x[0,-1,0] = 0\n",
    "                adv_x[0,-1,3] = diff + 60 - 14 #14 is the frame header len.\n",
    "                second_part = delay_and_split(adv_x)\n",
    "                if second_part==None:\n",
    "                    return None\n",
    "                res.append(first_part)\n",
    "                res.extend(second_part)\n",
    "            else:\n",
    "                res.append(first_part)\n",
    "            break\n",
    "    if len(res)==0:\n",
    "        return None\n",
    "    return res"
   ]
  },
  {
   "cell_type": "code",
   "execution_count": 20,
   "metadata": {
    "ExecuteTime": {
     "end_time": "2020-08-06T10:09:43.657269Z",
     "start_time": "2020-08-06T10:09:43.604683Z"
    }
   },
   "outputs": [],
   "source": [
    "tcp_mask = [1]*8 + [1]*16 + [0]*3 + [0]*1 + [1]*1\n",
    "udp_mask = [1]*8 + [0]*16 + [1]*3 + [0]*1 + [1]*16\n",
    "def inject(x,mask_type = 'tcp'):\n",
    "    alpha_inject.assign(np.zeros(alpha_inject.shape))\n",
    "    cur_mask = tcp_mask if mask_type=='tcp' else udp_mask\n",
    "    for i in range(300):\n",
    "        inject_optim(x,cur_mask)\n",
    "        adv_x1,adv_x2 = get_injected(x,cur_mask)\n",
    "        adv_x1,adv_x2  = adv_x1.numpy(),adv_x2.numpy()\n",
    "        adv_x1[0,:,1:] = np.round(adv_x1[0,:,1:])\n",
    "        sc = test_step(adv_x1)\n",
    "        sc = sc.numpy()\n",
    "        adv_x2[0,:,1:] = np.round(adv_x2[0,:,1:])\n",
    "        sc2 = test_step(adv_x2)\n",
    "        sc2 = sc2.numpy()\n",
    "        if sc<thr and sc2<thr: #fooled\n",
    "            fake_packets.append(adv_x1[0,-1])\n",
    "            return ('inject',adv_x1[0,-1]) #<--- the packet which is inject should be returned\n",
    "    res = None\n",
    "    return res"
   ]
  },
  {
   "cell_type": "code",
   "execution_count": 21,
   "metadata": {
    "ExecuteTime": {
     "end_time": "2020-08-06T14:11:11.432842Z",
     "start_time": "2020-08-06T10:09:44.620577Z"
    },
    "scrolled": true
   },
   "outputs": [
    {
     "name": "stdout",
     "output_type": "stream",
     "text": [
      "WARNING:tensorflow:AutoGraph could not transform <function get_delayed_splited at 0x7fb5b41158c0> and will run it as-is.\n",
      "Please report this to the TensorFlow team. When filing the bug, set the verbosity to 10 (on Linux, `export AUTOGRAPH_VERBOSITY=10`) and attach the full output.\n",
      "Cause: module 'gast' has no attribute 'Num'\n",
      "WARNING: AutoGraph could not transform <function get_delayed_splited at 0x7fb5b41158c0> and will run it as-is.\n",
      "Please report this to the TensorFlow team. When filing the bug, set the verbosity to 10 (on Linux, `export AUTOGRAPH_VERBOSITY=10`) and attach the full output.\n",
      "Cause: module 'gast' has no attribute 'Num'\n",
      "WARNING:tensorflow:AutoGraph could not transform <function delay_split_optim at 0x7fb5b4115a70> and will run it as-is.\n",
      "Please report this to the TensorFlow team. When filing the bug, set the verbosity to 10 (on Linux, `export AUTOGRAPH_VERBOSITY=10`) and attach the full output.\n",
      "Cause: module 'gast' has no attribute 'Str'\n",
      "WARNING: AutoGraph could not transform <function delay_split_optim at 0x7fb5b4115a70> and will run it as-is.\n",
      "Please report this to the TensorFlow team. When filing the bug, set the verbosity to 10 (on Linux, `export AUTOGRAPH_VERBOSITY=10`) and attach the full output.\n",
      "Cause: module 'gast' has no attribute 'Str'\n",
      "WARNING:tensorflow:AutoGraph could not transform <function inject_optim at 0x7fb5b4124290> and will run it as-is.\n",
      "Please report this to the TensorFlow team. When filing the bug, set the verbosity to 10 (on Linux, `export AUTOGRAPH_VERBOSITY=10`) and attach the full output.\n",
      "Cause: module 'gast' has no attribute 'Str'\n",
      "WARNING: AutoGraph could not transform <function inject_optim at 0x7fb5b4124290> and will run it as-is.\n",
      "Please report this to the TensorFlow team. When filing the bug, set the verbosity to 10 (on Linux, `export AUTOGRAPH_VERBOSITY=10`) and attach the full output.\n",
      "Cause: module 'gast' has no attribute 'Str'\n",
      "WARNING:tensorflow:AutoGraph could not transform <function get_injected at 0x7fb5b4115950> and will run it as-is.\n",
      "Please report this to the TensorFlow team. When filing the bug, set the verbosity to 10 (on Linux, `export AUTOGRAPH_VERBOSITY=10`) and attach the full output.\n",
      "Cause: Bad argument number for Name: 3, expecting 4\n",
      "WARNING: AutoGraph could not transform <function get_injected at 0x7fb5b4115950> and will run it as-is.\n",
      "Please report this to the TensorFlow team. When filing the bug, set the verbosity to 10 (on Linux, `export AUTOGRAPH_VERBOSITY=10`) and attach the full output.\n",
      "Cause: Bad argument number for Name: 3, expecting 4\n",
      "# 100 0.6072056094805399 40 40 1\n",
      "# 200 1.8477815548578898 130 46 5\n",
      "# 300 2.002278208732605 141 135 5\n",
      "# 400 2.715394945939382 193 182 6\n",
      "# 500 4.085504877567291 286 187 8\n",
      "# 600 4.086205554008484 286 287 8\n",
      "# 700 5.125441960493723 359 311 11\n",
      "# 800 6.088928774992625 428 337 16\n",
      "# 900 6.089667824904124 428 437 16\n",
      "# 1000 7.319527538617452 513 450 18\n",
      "# 1100 8.150039879480998 574 486 21\n",
      "# 1200 8.365025448799134 589 570 22\n",
      "# 1300 9.51196140050888 678 578 25\n",
      "# 1400 10.160266252358754 727 627 27\n",
      "# 1500 10.630016505718231 763 691 27\n",
      "# 1600 11.997933340072631 863 691 27\n",
      "# 1700 12.333814108371735 889 762 30\n",
      "# 1800 12.994632359345754 940 808 33\n",
      "# 1900 14.146380674839019 1028 818 35\n",
      "# 2000 14.229209558169048 1035 908 38\n",
      "# 2100 15.179163110256194 1107 932 42\n",
      "# 2200 16.313491280873617 1193 940 48\n",
      "# 2300 16.65572143793106 1220 1011 50\n",
      "# 2400 17.681167566776274 1298 1030 53\n",
      "# 2500 18.550699639320374 1366 1058 57\n",
      "# 2600 18.937414634227753 1397 1127 57\n",
      "# 2700 20.137479237715404 1490 1132 59\n",
      "# 2800 20.62271591424942 1529 1190 62\n",
      "# 2900 21.161263306935627 1572 1244 65\n",
      "# 3000 22.275520618756612 1659 1255 67\n",
      "# 3100 22.682067739963532 1691 1321 69\n",
      "# 3200 23.569323825836182 1760 1348 73\n",
      "# 3300 24.765634894371033 1852 1352 77\n",
      "# 3400 24.942294685045876 1866 1436 79\n",
      "# 3500 25.97907594839732 1945 1454 82\n",
      "# 3600 27.051123984654744 2026 1471 84\n",
      "# 3700 27.246534510453543 2042 1554 85\n",
      "# 3800 28.51211694876353 2140 1555 86\n",
      "# 3900 29.458423674106598 2210 1581 90\n",
      "# 4000 30.0551633477211 2257 1632 92\n",
      "# 4100 31.244265532493593 2348 1639 94\n",
      "# 4200 31.679454441865285 2381 1704 96\n",
      "# 4300 32.44322750965754 2441 1742 98\n",
      "# 4400 33.74396611452103 2540 1743 98\n",
      "# 4500 34.25602578719457 2578 1804 99\n",
      "# 4600 35.10784548123677 2640 1842 99\n",
      "# 4700 36.28406243721644 2729 1850 102\n",
      "# 4800 36.367889722188316 2734 1944 103\n",
      "# 4900 37.343772832552595 2810 1968 103\n",
      "# 5000 38.42572946945826 2892 1979 110\n",
      "# 5100 38.9394809126854 2932 2036 113\n",
      "# 5200 39.734056401252744 2994 2072 115\n",
      "# 5300 40.659567125638326 3065 2099 117\n",
      "# 5400 41.373358456293744 3113 2150 118\n",
      "# 5500 43.12919323047002 3170 2188 123\n",
      "# 5600 44.881056686242424 3234 2223 124\n",
      "# 5700 46.120747478803 3293 2261 127\n",
      "# 5800 47.300962909062704 3370 2279 132\n",
      "# 5900 47.9097572406133 3417 2330 134\n",
      "# 6000 48.87398516734441 3493 2350 138\n",
      "# 6100 49.91766602198283 3573 2367 141\n",
      "# 6200 50.38778221607208 3609 2429 143\n",
      "# 6300 51.32452658017476 3683 2449 149\n",
      "# 6400 52.450334787368774 3766 2462 153\n",
      "# 6500 52.97412199576696 3804 2523 154\n",
      "# 6600 53.94131426413854 3879 2542 160\n",
      "# 6700 55.09952791929245 3967 2553 161\n",
      "# 6800 55.69234647750854 4013 2607 161\n",
      "# 6900 56.77119802633921 4096 2617 168\n",
      "# 7000 57.553487026691435 4158 2648 175\n",
      "# 7100 58.32062598864238 4217 2687 177\n",
      "# 7200 59.30053930679957 4290 2709 182\n",
      "# 7300 59.80119688510895 4326 2768 187\n",
      "# 7400 60.712387919425964 4392 2800 189\n",
      "# 7500 61.92207106351852 4485 2804 192\n",
      "# 7600 62.23847642739614 4508 2879 194\n",
      "# 7700 63.29762311776479 4590 2894 197\n",
      "# 7800 64.59513908227285 4683 2899 199\n",
      "# 7900 65.07784280776977 4718 2961 202\n",
      "# 8000 66.10578387578329 4794 2982 205\n",
      "# 8100 67.41027049223582 4886 2988 207\n",
      "# 8200 68.08859320878983 4934 3040 207\n",
      "# 8300 69.03842464288076 5003 3066 212\n",
      "# 8400 70.06565690437952 5076 3091 214\n",
      "# 8500 70.9936553200086 5141 3125 215\n",
      "# 8600 71.87031753460566 5207 3154 220\n",
      "# 8700 73.10367819865544 5298 3159 224\n",
      "# 8800 73.65417309204737 5340 3214 227\n",
      "# 8900 74.63736360470453 5414 3239 228\n",
      "# 9000 75.51043899059296 5479 3273 229\n",
      "# 9100 76.44902773300807 5549 3303 229\n",
      "# 9200 77.19040248394012 5605 3343 233\n",
      "# 9300 77.94612949291864 5661 3385 235\n",
      "# 9400 79.04601992766062 5743 3400 238\n",
      "# 9500 80.02159021298091 5815 3426 240\n",
      "# 9600 80.75202395915986 5870 3468 243\n",
      "# 9700 81.5862884402275 5932 3503 246\n",
      "# 9800 82.67419106165568 6012 3518 251\n",
      "# 9900 83.44165706237158 6070 3559 252\n",
      "# 10000 84.18547064065933 6125 3602 254\n",
      "# 10100 85.23776462475459 6201 3620 260\n",
      "# 10200 85.85803529818853 6248 3672 261\n",
      "# 10300 86.75060304403306 6315 3703 263\n",
      "# 10400 87.40215812126796 6363 3750 268\n",
      "# 10500 88.55071056286494 6449 3763 269\n",
      "# 10600 89.55313385327658 6523 3782 276\n",
      "# 10700 90.02632780075074 6558 3843 280\n",
      "# 10800 91.0995157122612 6638 3860 283\n",
      "# 10900 92.19133576949437 6721 3870 290\n",
      "# 11000 93.00921420256297 6784 3903 294\n",
      "# 11100 94.18740084171296 6874 3909 298\n",
      "# 11200 95.3356185555458 6958 3921 302\n",
      "# 11300 96.18826682170233 7023 3945 313\n",
      "# 11400 97.39522284666697 7114 3950 317\n",
      "# 11500 98.54286115566889 7201 3957 323\n",
      "# 11600 99.46895291805268 7270 3983 328\n",
      "# 11700 100.47259732882182 7345 3998 338\n",
      "# 11800 101.64706879456838 7434 4003 344\n",
      "# 11900 102.31183342933655 7485 4048 348\n",
      "# 12000 103.56710763772328 7578 4055 348\n",
      "# 12100 104.4292299548785 7643 4084 354\n",
      "# 12200 105.46082583665847 7720 4105 356\n",
      "# 12300 106.46232593456904 7795 4125 361\n",
      "# 12400 107.21762628157934 7852 4167 362\n",
      "# 12500 108.15735154151916 7922 4196 363\n",
      "# 12600 109.39410713513692 8014 4201 366\n",
      "# 12700 110.1782393693924 8074 4235 372\n",
      "# 12800 111.34125503301621 8160 4243 378\n",
      "# 12900 112.41241511503856 8236 4261 384\n",
      "# 13000 113.3821052312851 8308 4283 390\n",
      "# 13100 114.39946848948797 8384 4306 391\n",
      "# 13200 115.43192366758983 8462 4325 394\n",
      "# 13300 116.34009430408477 8530 4351 400\n",
      "# 13400 117.29090040524801 8601 4372 408\n",
      "# 13500 118.21788154045741 8672 4399 410\n",
      "# 13600 119.33236648639043 8755 4412 414\n",
      "# 13700 120.22598567008973 8822 4442 417\n",
      "# 13800 120.93571560780207 8877 4479 425\n",
      "# 13900 122.03828925291697 8961 4486 434\n",
      "# 14000 123.04617033402126 9036 4508 437\n",
      "# 14100 123.74628813266754 9089 4549 443\n",
      "# 14200 125.01407947937648 9183 4553 445\n",
      "# 14300 125.96219745874404 9254 4577 450\n",
      "# 14400 126.58215845823288 9300 4630 451\n",
      "# 14500 127.64226529200872 9379 4646 456\n"
     ]
    },
    {
     "name": "stdout",
     "output_type": "stream",
     "text": [
      "# 14600 128.73447029590608 9459 4662 460\n",
      "# 14700 129.4727926770846 9510 4709 462\n",
      "# 14800 130.4742902437846 9583 4733 465\n",
      "# 14900 131.23698324362437 9640 4772 469\n",
      "# 15000 132.25768903891245 9718 4790 473\n",
      "# 15100 133.12650483846664 9782 4823 476\n",
      "# 15200 133.89413859844208 9840 4861 480\n",
      "# 15300 134.81435458660127 9909 4887 485\n",
      "# 15400 135.87251150608063 9988 4903 490\n",
      "# 15500 136.8748445868492 10061 4920 500\n",
      "# 15600 137.78589280843735 10129 4948 504\n",
      "# 15700 138.8642404993375 10210 4964 507\n",
      "# 15800 139.92901177803677 10292 4979 510\n",
      "# 15900 140.96630419890087 10371 4995 515\n",
      "# 16000 142.00032389561335 10450 5010 521\n",
      "# 16100 143.13405989408494 10537 5020 524\n",
      "# 16200 144.1831013441086 10615 5034 532\n",
      "# 16300 145.23924880425136 10697 5047 537\n",
      "# 16400 146.2149770061175 10771 5064 546\n",
      "# 16500 147.2542481501897 10849 5080 552\n",
      "# 16600 148.21049418846766 10920 5103 558\n",
      "# 16700 149.01935954093932 10982 5129 570\n",
      "# 16800 150.15330778360368 11068 5143 570\n",
      "# 16900 151.2629128575325 11152 5152 577\n",
      "# 17000 152.3309252858162 11234 5167 580\n",
      "# 17100 153.53631227413814 11326 5169 586\n",
      "# 17200 154.57577819824218 11406 5184 591\n",
      "# 17300 155.7702719171842 11496 5193 592\n",
      "# 17400 156.9354241093 11585 5201 595\n",
      "# 17500 158.0840081135432 11672 5210 599\n",
      "# 17600 159.2978866259257 11764 5215 602\n",
      "# 17700 160.45446888605753 11852 5224 605\n",
      "# 17800 161.44566028912863 11928 5241 612\n",
      "# 17900 162.73180198669434 12026 5241 614\n",
      "# 18000 163.86636929512025 12112 5250 619\n",
      "# 18100 164.8642722884814 12188 5270 623\n",
      "# 18200 166.14800612529118 12281 5275 625\n",
      "# 18300 167.3251260081927 12371 5282 628\n",
      "# 18400 168.3368458509445 12448 5302 631\n",
      "# 18500 169.56976369222005 12541 5307 633\n",
      "# 18600 170.57530475854873 12618 5326 637\n",
      "# 18700 171.69078771273294 12703 5337 641\n",
      "# 18800 172.8990292509397 12795 5341 645\n",
      "# 18900 173.9544715364774 12875 5356 650\n",
      "# 19000 175.15355248451232 12966 5362 653\n",
      "# 19100 176.103064707915 13037 5384 660\n",
      "# 19200 177.02993154525757 13109 5407 665\n",
      "# 19300 178.2677124063174 13203 5412 666\n",
      "# 19400 179.16556409200032 13270 5442 669\n",
      "# 19500 180.19204740524293 13351 5456 674\n",
      "# 19600 181.52499080499013 13451 5456 674\n",
      "# 19700 182.45929236809414 13523 5478 680\n",
      "# 19800 183.45837040344875 13598 5501 682\n",
      "# 19900 184.6492180665334 13689 5508 684\n",
      "# 20000 185.64493199984233 13766 5526 689\n",
      "# 20100 186.787729036808 13853 5535 693\n",
      "# 20200 187.82230255206426 13932 5550 699\n",
      "# 20300 188.94536352157593 14017 5565 699\n",
      "# 20400 190.00045566956203 14097 5581 703\n",
      "# 20500 191.1049190878868 14181 5591 709\n",
      "# 20600 192.20349616209666 14266 5600 715\n",
      "# 20700 193.3972530444463 14358 5603 720\n",
      "# 20800 194.556198990345 14445 5609 727\n",
      "# 20900 195.8600709716479 14544 5609 728\n",
      "# 21000 196.9585041085879 14624 5623 734\n",
      "# 21100 198.14758198261262 14713 5629 739\n",
      "# 21200 199.317449426651 14801 5636 744\n",
      "# 21300 200.4473196744919 14887 5649 745\n",
      "# 21400 201.634896449248 14978 5652 751\n",
      "# 21500 202.8807471513748 15073 5656 752\n",
      "# 21600 203.91351723273596 15152 5671 758\n",
      "# 21700 205.0957491795222 15242 5678 761\n",
      "# 21800 206.26725133260092 15331 5685 765\n",
      "# 21900 207.30758617719013 15410 5705 766\n",
      "# 22000 208.3968660235405 15494 5710 777\n",
      "# 22100 209.31187447706859 15564 5737 780\n",
      "# 22200 210.44816131591796 15651 5744 786\n",
      "# 22300 211.61240930954617 15739 5753 789\n",
      "# 22400 212.36466801563898 15796 5793 792\n",
      "# 22500 213.5939662138621 15890 5798 793\n",
      "# 22600 214.75979110797246 15977 5809 795\n",
      "# 22700 215.54125851392746 16036 5843 802\n",
      "# 22800 216.76379753748577 16129 5845 807\n",
      "# 22900 217.90510185162228 16214 5856 811\n",
      "# 23000 218.72488522132238 16277 5892 812\n",
      "# 23100 219.94487919012707 16368 5897 816\n",
      "# 23200 221.21537264188132 16465 5897 819\n",
      "# 23300 222.272945022583 16546 5913 822\n",
      "# 23400 223.56575744946798 16644 5913 824\n",
      "# 23500 224.5017258286476 16715 5938 828\n",
      "# 23600 225.70719807545345 16808 5941 832\n",
      "# 23700 226.9793661793073 16905 5941 835\n",
      "# 23800 227.99451859792075 16980 5963 838\n",
      "# 23900 229.27340864340465 17077 5963 841\n",
      "# 24000 230.57043566703797 17175 5963 843\n",
      "# 24100 231.50536214907964 17247 5985 849\n",
      "# 24200 232.83480958541233 17347 5985 849\n",
      "# 24300 233.7919655283292 17420 6010 851\n",
      "# 24400 234.8354373693466 17500 6026 855\n",
      "# 24500 236.1354828675588 17599 6026 856\n",
      "# 24600 237.132228799661 17674 6042 865\n",
      "# 24700 238.11604349215824 17749 6064 868\n",
      "# 24800 239.36764538288116 17845 6065 871\n",
      "# 24900 240.28784030278524 17915 6088 878\n",
      "duration: 14486.788273572922\n"
     ]
    }
   ],
   "source": [
    "stream = []\n",
    "stream_status = []\n",
    "fake_packets = []\n",
    "cons_as_mal = 0\n",
    "cons_as_ben = 0\n",
    "fooled = 0\n",
    "begin_time = time.time()\n",
    "for i in range(timesteps-1):\n",
    "    stream.append(x_test_mal[i])\n",
    "    stream_status.append(None)\n",
    "for i in range(timesteps-1,len(x_test_mal)):\n",
    "    if i%100==0:\n",
    "        print ('#',i,(time.time() - begin_time)/60.,cons_as_mal,cons_as_ben,fooled)\n",
    "    x = np.zeros((1,20,29),dtype=np.float32)\n",
    "    x[0,:19] = np.array(stream[-19:])\n",
    "    x[0,19] = x_test_mal[i]\n",
    "    temp = find_adv(np.copy(x))\n",
    "    stream_status.append(temp)\n",
    "    if isinstance(temp,type(None)):\n",
    "        stream.append(x_test_mal[i])\n",
    "        cons_as_mal+=1\n",
    "    elif temp == 'cons_as_ben':\n",
    "        stream.append(x_test_mal[i])\n",
    "        cons_as_ben+=1\n",
    "    elif temp[0]=='split':\n",
    "        fooled+=1\n",
    "        for pkt in temp[1]:\n",
    "            p2 = pkt[0,-1]\n",
    "            stream.append(p2)\n",
    "    elif temp[0]=='inject':\n",
    "        fooled+=1\n",
    "        fake_pkt = temp[1]\n",
    "        stream.append(fake_pkt)\n",
    "        stream.append(x_test_mal[i])\n",
    "print ('duration:',time.time() - begin_time)"
   ]
  },
  {
   "cell_type": "code",
   "execution_count": 22,
   "metadata": {
    "ExecuteTime": {
     "end_time": "2020-08-06T21:01:18.314118Z",
     "start_time": "2020-08-06T21:01:17.972679Z"
    }
   },
   "outputs": [
    {
     "name": "stdout",
     "output_type": "stream",
     "text": [
      "TPR in adversarial setting for FTP-Patator is 0.7201\n"
     ]
    }
   ],
   "source": [
    "print (\"TPR in adversarial setting for \"+attack_type+\" is {0:0.4f}\".format(cons_as_mal/len(x_test_mal)))"
   ]
  },
  {
   "cell_type": "code",
   "execution_count": null,
   "metadata": {},
   "outputs": [],
   "source": []
  }
 ],
 "metadata": {
  "kernelspec": {
   "display_name": "Python 3",
   "language": "python",
   "name": "python3"
  },
  "language_info": {
   "codemirror_mode": {
    "name": "ipython",
    "version": 3
   },
   "file_extension": ".py",
   "mimetype": "text/x-python",
   "name": "python",
   "nbconvert_exporter": "python",
   "pygments_lexer": "ipython3",
   "version": "3.7.7"
  },
  "toc": {
   "base_numbering": 1,
   "nav_menu": {},
   "number_sections": true,
   "sideBar": true,
   "skip_h1_title": false,
   "title_cell": "Table of Contents",
   "title_sidebar": "Contents",
   "toc_cell": false,
   "toc_position": {},
   "toc_section_display": true,
   "toc_window_display": true
  }
 },
 "nbformat": 4,
 "nbformat_minor": 4
}
